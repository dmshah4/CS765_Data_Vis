{
  "nbformat": 4,
  "nbformat_minor": 0,
  "metadata": {
    "colab": {
      "name": "DC2_DataPreprocessing.ipynb",
      "provenance": [],
      "collapsed_sections": []
    },
    "kernelspec": {
      "name": "python3",
      "display_name": "Python 3"
    },
    "language_info": {
      "name": "python"
    }
  },
  "cells": [
    {
      "cell_type": "code",
      "metadata": {
        "colab": {
          "base_uri": "https://localhost:8080/"
        },
        "id": "XIP-_Vm8hKcC",
        "outputId": "5c693c5d-c118-497e-d8c2-3f784d6af271"
      },
      "source": [
        "from google.colab import drive\n",
        "drive.mount('/content/gdrive')"
      ],
      "execution_count": null,
      "outputs": [
        {
          "output_type": "stream",
          "name": "stdout",
          "text": [
            "Mounted at /content/gdrive\n"
          ]
        }
      ]
    },
    {
      "cell_type": "code",
      "metadata": {
        "colab": {
          "base_uri": "https://localhost:8080/"
        },
        "id": "00A0Vl8OhQ-_",
        "outputId": "4a95c5dc-5088-4cfa-acb2-112c26c5d953"
      },
      "source": [
        "import pandas as pd\n",
        "\n",
        "path = \"/content/gdrive/MyDrive/Programming/DC1_Atus_Dataset_Cleaned.csv\"\n",
        "df = pd.read_csv(path)\n",
        "print (df)"
      ],
      "execution_count": null,
      "outputs": [
        {
          "output_type": "stream",
          "name": "stdout",
          "text": [
            "        Year     Region State Code (FIPS)  ...  ACT_TRAVEL  ACT_VOL ACT_WORK\n",
            "0       2003       West        California  ...           0        0        0\n",
            "1       2003       West        California  ...          20        0        0\n",
            "2       2003       West        California  ...          10        0        0\n",
            "3       2003      South           Georgia  ...           0        0      120\n",
            "4       2003      South          Kentucky  ...          78        0      500\n",
            "...      ...        ...               ...  ...         ...      ...      ...\n",
            "210581  2019      South    South Carolina  ...           0        0        0\n",
            "210582  2019       West            Nevada  ...         100        0        0\n",
            "210583  2019       West           Wyoming  ...         145        0       30\n",
            "210584  2019       West        Washington  ...         105        0      485\n",
            "210585  2019  Northeast      Pennsylvania  ...          64        0        0\n",
            "\n",
            "[210586 rows x 34 columns]\n"
          ]
        }
      ]
    },
    {
      "cell_type": "code",
      "metadata": {
        "colab": {
          "base_uri": "https://localhost:8080/"
        },
        "id": "mdKadVwsju_F",
        "outputId": "b6445a6c-dfdf-4dc5-94d7-042230a4a857"
      },
      "source": [
        "df1 = df[['Race', 'Family Income']]\n",
        "print(df1)"
      ],
      "execution_count": null,
      "outputs": [
        {
          "output_type": "stream",
          "name": "stdout",
          "text": [
            "              Race         Family Income\n",
            "0       Black only    $60,000 to $74,999\n",
            "1       White only               Refused\n",
            "2       White only    $75,000 to $99,999\n",
            "3       Black only    $20,000 to $24,999\n",
            "4       White only    $75,000 to $99,999\n",
            "...            ...                   ...\n",
            "210581  White only    $60,000 to $74,999\n",
            "210582  White only    $30,000 to $34,999\n",
            "210583  White only  $100,000 to $149,999\n",
            "210584  White only    $75,000 to $99,999\n",
            "210585  White only     $150,000 and over\n",
            "\n",
            "[210586 rows x 2 columns]\n"
          ]
        }
      ]
    },
    {
      "cell_type": "code",
      "metadata": {
        "colab": {
          "base_uri": "https://localhost:8080/"
        },
        "id": "PYVXRPPikweP",
        "outputId": "08e09d49-4110-483a-8b32-1bef362f0418"
      },
      "source": [
        "some_values = ['Black Only', 'White only', 'Asian only', 'White-American Indian', 'American Indian, Alaskan Native']\n",
        "df2 = df1.loc[df1['Race'].isin(some_values)]\n",
        "print(df2)"
      ],
      "execution_count": null,
      "outputs": [
        {
          "output_type": "stream",
          "name": "stdout",
          "text": [
            "              Race         Family Income\n",
            "1       White only               Refused\n",
            "2       White only    $75,000 to $99,999\n",
            "4       White only    $75,000 to $99,999\n",
            "5       White only    $40,000 to $49,999\n",
            "6       White only    $12,500 to $14,999\n",
            "...            ...                   ...\n",
            "210581  White only    $60,000 to $74,999\n",
            "210582  White only    $30,000 to $34,999\n",
            "210583  White only  $100,000 to $149,999\n",
            "210584  White only    $75,000 to $99,999\n",
            "210585  White only     $150,000 and over\n",
            "\n",
            "[180041 rows x 2 columns]\n"
          ]
        }
      ]
    },
    {
      "cell_type": "code",
      "metadata": {
        "colab": {
          "base_uri": "https://localhost:8080/"
        },
        "id": "45qF1h4dl589",
        "outputId": "060eb0b3-2e64-4966-f47e-36a6b124fc86"
      },
      "source": [
        "fam_values = ['$75,000 to $99,999', '$40,000 to $49,999', '$12,500 to $14,999',\n",
        " '$50,000 to $59,999', '$10,000 to $12,499', '$25,000 to $29,999',\n",
        " '$60,000 to $74,999', '$20,000 to $24,999',\n",
        " '$15,000 to $19,999', '$35,000 to $39,999', '$30,000 to $34,999',\n",
        " '$5,000 to $7,499', '$7,500 to $9,999', 'Less than $5,000',\n",
        " '$100,000 to $149,999', '$150,000 and over']\n",
        "\n",
        "df3 = df2.loc[df2['Family Income'].isin(fam_values)]\n",
        "print(df3)\n"
      ],
      "execution_count": null,
      "outputs": [
        {
          "output_type": "stream",
          "name": "stdout",
          "text": [
            "              Race         Family Income\n",
            "2       White only    $75,000 to $99,999\n",
            "4       White only    $75,000 to $99,999\n",
            "5       White only    $40,000 to $49,999\n",
            "6       White only    $12,500 to $14,999\n",
            "7       White only    $75,000 to $99,999\n",
            "...            ...                   ...\n",
            "210581  White only    $60,000 to $74,999\n",
            "210582  White only    $30,000 to $34,999\n",
            "210583  White only  $100,000 to $149,999\n",
            "210584  White only    $75,000 to $99,999\n",
            "210585  White only     $150,000 and over\n",
            "\n",
            "[168555 rows x 2 columns]\n"
          ]
        }
      ]
    },
    {
      "cell_type": "code",
      "metadata": {
        "colab": {
          "base_uri": "https://localhost:8080/"
        },
        "id": "Ck91O1xnl2En",
        "outputId": "a0eb46af-02aa-49fb-880f-4b37f00d86e5"
      },
      "source": [
        "for col in df2:\n",
        "    print(df2[col].unique())"
      ],
      "execution_count": null,
      "outputs": [
        {
          "output_type": "stream",
          "name": "stdout",
          "text": [
            "['White only' 'Asian only' 'White-American Indian'\n",
            " 'American Indian, Alaskan Native']\n",
            "['Refused' '$75,000 to $99,999' '$40,000 to $49,999' '$12,500 to $14,999'\n",
            " '$50,000 to $59,999' '$10,000 to $12,499' '$25,000 to $29,999'\n",
            " '$60,000 to $74,999' '$20,000 to $24,999' \"Don't know\"\n",
            " '$15,000 to $19,999' '$35,000 to $39,999' '$30,000 to $34,999'\n",
            " '$5,000 to $7,499' '$7,500 to $9,999' 'Less than $5,000' 'Blank'\n",
            " '$100,000 to $149,999' '$150,000 and over']\n"
          ]
        }
      ]
    },
    {
      "cell_type": "code",
      "metadata": {
        "id": "GJgEG2hina9I"
      },
      "source": [
        "import altair as alt\n",
        "from vega_datasets import data\n",
        "\n",
        "source = data.barley()"
      ],
      "execution_count": null,
      "outputs": []
    },
    {
      "cell_type": "code",
      "metadata": {
        "colab": {
          "base_uri": "https://localhost:8080/"
        },
        "id": "eA7NmxcEnoHg",
        "outputId": "b298b5be-1ed6-4082-cd42-e3ec4960a777"
      },
      "source": [
        "import pandas as pd\n",
        "\n",
        "df_final = pd.read_csv ('/content/gdrive/MyDrive/Programming/temp.csv')\n",
        "print (df_final)"
      ],
      "execution_count": null,
      "outputs": [
        {
          "output_type": "stream",
          "name": "stdout",
          "text": [
            "                               Race Family Income  Number of People\n",
            "0                        Black only         0K-5K         60.328656\n",
            "1                        White only         0K-5K         18.658595\n",
            "2                        Asian only         0K-5K         23.269428\n",
            "3   American Indian, Alaskan Native         0K-5K         55.939227\n",
            "4             White-American Indian         0K-5K         25.622255\n",
            "..                              ...           ...               ...\n",
            "75                       Black only  150K-AndOver         29.789150\n",
            "76                       White only  150K-AndOver         79.473658\n",
            "77                       Asian only  150K-AndOver        174.740231\n",
            "78  American Indian, Alaskan Native  150K-AndOver         26.243094\n",
            "79            White-American Indian  150K-AndOver         35.871157\n",
            "\n",
            "[80 rows x 3 columns]\n"
          ]
        }
      ]
    },
    {
      "cell_type": "code",
      "metadata": {
        "colab": {
          "base_uri": "https://localhost:8080/"
        },
        "id": "0H66rFhpx9Fv",
        "outputId": "041548f7-7785-4ef0-b623-9f5fd2600c57"
      },
      "source": [
        "order_ofIncome = list(df_final['Family Income'].unique())\n",
        "print(order_ofIncome)"
      ],
      "execution_count": null,
      "outputs": [
        {
          "output_type": "stream",
          "name": "stdout",
          "text": [
            "['0K-5K', '5K-7.5K', '7.5K-10K', '10K-12.5K', '12.5K-15K', '15K-20K', '20K-25K', '25K-30K', '30K-35K', '35K-40K', '40K-50K', '50K-60K', '60K-75K', '75K-100K', '100K-150K', '150K-AndOver']\n"
          ]
        }
      ]
    },
    {
      "cell_type": "code",
      "metadata": {
        "colab": {
          "base_uri": "https://localhost:8080/",
          "height": 425
        },
        "id": "u7Ec61VSwcgn",
        "outputId": "a5a79897-d219-4792-85b0-a871250e40a9"
      },
      "source": [
        "import altair as alt\n",
        "from vega_datasets import data\n",
        "\n",
        "alt.Chart(df_final).mark_bar().encode(\n",
        "    x = alt.X('Family Income', sort=order_ofIncome),\n",
        "    y = 'Number of People',\n",
        "    color = 'Race'\n",
        ")"
      ],
      "execution_count": null,
      "outputs": [
        {
          "output_type": "execute_result",
          "data": {
            "text/plain": [
              "alt.Chart(...)"
            ],
            "text/html": [
              "\n",
              "<div id=\"altair-viz-b6f4d8c790c2464db2f9915eb10feb20\"></div>\n",
              "<script type=\"text/javascript\">\n",
              "  (function(spec, embedOpt){\n",
              "    let outputDiv = document.currentScript.previousElementSibling;\n",
              "    if (outputDiv.id !== \"altair-viz-b6f4d8c790c2464db2f9915eb10feb20\") {\n",
              "      outputDiv = document.getElementById(\"altair-viz-b6f4d8c790c2464db2f9915eb10feb20\");\n",
              "    }\n",
              "    const paths = {\n",
              "      \"vega\": \"https://cdn.jsdelivr.net/npm//vega@5?noext\",\n",
              "      \"vega-lib\": \"https://cdn.jsdelivr.net/npm//vega-lib?noext\",\n",
              "      \"vega-lite\": \"https://cdn.jsdelivr.net/npm//vega-lite@4.8.1?noext\",\n",
              "      \"vega-embed\": \"https://cdn.jsdelivr.net/npm//vega-embed@6?noext\",\n",
              "    };\n",
              "\n",
              "    function loadScript(lib) {\n",
              "      return new Promise(function(resolve, reject) {\n",
              "        var s = document.createElement('script');\n",
              "        s.src = paths[lib];\n",
              "        s.async = true;\n",
              "        s.onload = () => resolve(paths[lib]);\n",
              "        s.onerror = () => reject(`Error loading script: ${paths[lib]}`);\n",
              "        document.getElementsByTagName(\"head\")[0].appendChild(s);\n",
              "      });\n",
              "    }\n",
              "\n",
              "    function showError(err) {\n",
              "      outputDiv.innerHTML = `<div class=\"error\" style=\"color:red;\">${err}</div>`;\n",
              "      throw err;\n",
              "    }\n",
              "\n",
              "    function displayChart(vegaEmbed) {\n",
              "      vegaEmbed(outputDiv, spec, embedOpt)\n",
              "        .catch(err => showError(`Javascript Error: ${err.message}<br>This usually means there's a typo in your chart specification. See the javascript console for the full traceback.`));\n",
              "    }\n",
              "\n",
              "    if(typeof define === \"function\" && define.amd) {\n",
              "      requirejs.config({paths});\n",
              "      require([\"vega-embed\"], displayChart, err => showError(`Error loading script: ${err.message}`));\n",
              "    } else if (typeof vegaEmbed === \"function\") {\n",
              "      displayChart(vegaEmbed);\n",
              "    } else {\n",
              "      loadScript(\"vega\")\n",
              "        .then(() => loadScript(\"vega-lite\"))\n",
              "        .then(() => loadScript(\"vega-embed\"))\n",
              "        .catch(showError)\n",
              "        .then(() => displayChart(vegaEmbed));\n",
              "    }\n",
              "  })({\"config\": {\"view\": {\"continuousWidth\": 400, \"continuousHeight\": 300}}, \"data\": {\"name\": \"data-3da2e2f2e668266d00da85bfe4ef14f2\"}, \"mark\": \"bar\", \"encoding\": {\"color\": {\"type\": \"nominal\", \"field\": \"Race\"}, \"x\": {\"type\": \"nominal\", \"field\": \"Family Income\", \"sort\": [\"0K-5K\", \"5K-7.5K\", \"7.5K-10K\", \"10K-12.5K\", \"12.5K-15K\", \"15K-20K\", \"20K-25K\", \"25K-30K\", \"30K-35K\", \"35K-40K\", \"40K-50K\", \"50K-60K\", \"60K-75K\", \"75K-100K\", \"100K-150K\", \"150K-AndOver\"]}, \"y\": {\"type\": \"quantitative\", \"field\": \"Number of People\"}}, \"$schema\": \"https://vega.github.io/schema/vega-lite/v4.8.1.json\", \"datasets\": {\"data-3da2e2f2e668266d00da85bfe4ef14f2\": [{\"Race\": \"Black only\", \"Family Income\": \"0K-5K\", \"Number of People\": 60.32865611}, {\"Race\": \"White only\", \"Family Income\": \"0K-5K\", \"Number of People\": 18.65859491}, {\"Race\": \"Asian only\", \"Family Income\": \"0K-5K\", \"Number of People\": 23.26942778}, {\"Race\": \"American Indian, Alaskan Native\", \"Family Income\": \"0K-5K\", \"Number of People\": 55.93922652}, {\"Race\": \"White-American Indian\", \"Family Income\": \"0K-5K\", \"Number of People\": 25.62225476}, {\"Race\": \"Black only\", \"Family Income\": \"5K-7.5K\", \"Number of People\": 45.95933068}, {\"Race\": \"White only\", \"Family Income\": \"5K-7.5K\", \"Number of People\": 14.90170413}, {\"Race\": \"Asian only\", \"Family Income\": \"5K-7.5K\", \"Number of People\": 8.195521733}, {\"Race\": \"American Indian, Alaskan Native\", \"Family Income\": \"5K-7.5K\", \"Number of People\": 49.03314917}, {\"Race\": \"White-American Indian\", \"Family Income\": \"5K-7.5K\", \"Number of People\": 30.01464129}, {\"Race\": \"Black only\", \"Family Income\": \"7.5K-10K\", \"Number of People\": 54.17573347}, {\"Race\": \"White only\", \"Family Income\": \"7.5K-10K\", \"Number of People\": 21.2953407}, {\"Race\": \"Asian only\", \"Family Income\": \"7.5K-10K\", \"Number of People\": 9.512659154}, {\"Race\": \"American Indian, Alaskan Native\", \"Family Income\": \"7.5K-10K\", \"Number of People\": 40.74585635}, {\"Race\": \"White-American Indian\", \"Family Income\": \"7.5K-10K\", \"Number of People\": 46.12005857}, {\"Race\": \"Black only\", \"Family Income\": \"10K-12.5K\", \"Number of People\": 59.87844226}, {\"Race\": \"White only\", \"Family Income\": \"10K-12.5K\", \"Number of People\": 29.87892365}, {\"Race\": \"Asian only\", \"Family Income\": \"10K-12.5K\", \"Number of People\": 16.83008927}, {\"Race\": \"American Indian, Alaskan Native\", \"Family Income\": \"10K-12.5K\", \"Number of People\": 57.32044199}, {\"Race\": \"White-American Indian\", \"Family Income\": \"10K-12.5K\", \"Number of People\": 49.04831625}, {\"Race\": \"Black only\", \"Family Income\": \"12.5K-15K\", \"Number of People\": 44.79627823}, {\"Race\": \"White only\", \"Family Income\": \"12.5K-15K\", \"Number of People\": 28.00362474}, {\"Race\": \"Asian only\", \"Family Income\": \"12.5K-15K\", \"Number of People\": 13.17137421}, {\"Race\": \"American Indian, Alaskan Native\", \"Family Income\": \"12.5K-15K\", \"Number of People\": 52.48618785}, {\"Race\": \"White-American Indian\", \"Family Income\": \"12.5K-15K\", \"Number of People\": 49.04831625}, {\"Race\": \"Black only\", \"Family Income\": \"15K-20K\", \"Number of People\": 68.73264801}, {\"Race\": \"White only\", \"Family Income\": \"15K-20K\", \"Number of People\": 46.36645103}, {\"Race\": \"Asian only\", \"Family Income\": \"15K-20K\", \"Number of People\": 24.732913800000002}, {\"Race\": \"American Indian, Alaskan Native\", \"Family Income\": \"15K-20K\", \"Number of People\": 62.84530387}, {\"Race\": \"White-American Indian\", \"Family Income\": \"15K-20K\", \"Number of People\": 62.22547584}, {\"Race\": \"Black only\", \"Family Income\": \"20K-25K\", \"Number of People\": 76.68642605}, {\"Race\": \"White only\", \"Family Income\": \"20K-25K\", \"Number of People\": 56.48551363}, {\"Race\": \"Asian only\", \"Family Income\": \"20K-25K\", \"Number of People\": 34.39192156}, {\"Race\": \"American Indian, Alaskan Native\", \"Family Income\": \"20K-25K\", \"Number of People\": 82.87292818}, {\"Race\": \"White-American Indian\", \"Family Income\": \"20K-25K\", \"Number of People\": 75.40263543}, {\"Race\": \"Black only\", \"Family Income\": \"25K-30K\", \"Number of People\": 73.42237563}, {\"Race\": \"White only\", \"Family Income\": \"25K-30K\", \"Number of People\": 57.32247589999999}, {\"Race\": \"Asian only\", \"Family Income\": \"25K-30K\", \"Number of People\": 36.14810479}, {\"Race\": \"American Indian, Alaskan Native\", \"Family Income\": \"25K-30K\", \"Number of People\": 80.80110497}, {\"Race\": \"White-American Indian\", \"Family Income\": \"25K-30K\", \"Number of People\": 65.15373353}, {\"Race\": \"Black only\", \"Family Income\": \"30K-35K\", \"Number of People\": 67.94477377}, {\"Race\": \"White only\", \"Family Income\": \"30K-35K\", \"Number of People\": 60.80876985}, {\"Race\": \"Asian only\", \"Family Income\": \"30K-35K\", \"Number of People\": 41.27030587}, {\"Race\": \"American Indian, Alaskan Native\", \"Family Income\": \"30K-35K\", \"Number of People\": 76.65745856}, {\"Race\": \"White-American Indian\", \"Family Income\": \"30K-35K\", \"Number of People\": 71.74231332}, {\"Race\": \"Black only\", \"Family Income\": \"35K-40K\", \"Number of People\": 61.19156599}, {\"Race\": \"White only\", \"Family Income\": \"35K-40K\", \"Number of People\": 55.64855136}, {\"Race\": \"Asian only\", \"Family Income\": \"35K-40K\", \"Number of People\": 39.22142544}, {\"Race\": \"American Indian, Alaskan Native\", \"Family Income\": \"35K-40K\", \"Number of People\": 60.77348066}, {\"Race\": \"White-American Indian\", \"Family Income\": \"35K-40K\", \"Number of People\": 50.5124451}, {\"Race\": \"Black only\", \"Family Income\": \"40K-50K\", \"Number of People\": 85.20297141}, {\"Race\": \"White only\", \"Family Income\": \"40K-50K\", \"Number of People\": 88.90049588}, {\"Race\": \"Asian only\", \"Family Income\": \"40K-50K\", \"Number of People\": 66.73496268}, {\"Race\": \"American Indian, Alaskan Native\", \"Family Income\": \"40K-50K\", \"Number of People\": 96.68508287}, {\"Race\": \"White-American Indian\", \"Family Income\": \"40K-50K\", \"Number of People\": 81.99121523}, {\"Race\": \"Black only\", \"Family Income\": \"50K-60K\", \"Number of People\": 71.69655586}, {\"Race\": \"White only\", \"Family Income\": \"50K-60K\", \"Number of People\": 87.32725854}, {\"Race\": \"Asian only\", \"Family Income\": \"50K-60K\", \"Number of People\": 75.51587882}, {\"Race\": \"American Indian, Alaskan Native\", \"Family Income\": \"50K-60K\", \"Number of People\": 74.58563536}, {\"Race\": \"White-American Indian\", \"Family Income\": \"50K-60K\", \"Number of People\": 87.11566618}, {\"Race\": \"Black only\", \"Family Income\": \"60K-75K\", \"Number of People\": 73.64748255}, {\"Race\": \"White only\", \"Family Income\": \"60K-75K\", \"Number of People\": 107.2192715}, {\"Race\": \"Asian only\", \"Family Income\": \"60K-75K\", \"Number of People\": 106.68813109999999}, {\"Race\": \"American Indian, Alaskan Native\", \"Family Income\": \"60K-75K\", \"Number of People\": 62.15469613}, {\"Race\": \"White-American Indian\", \"Family Income\": \"60K-75K\", \"Number of People\": 89.31185944}, {\"Race\": \"Black only\", \"Family Income\": \"75K-100K\", \"Number of People\": 77.24919337}, {\"Race\": \"White only\", \"Family Income\": \"75K-100K\", \"Number of People\": 141.15085459999997}, {\"Race\": \"Asian only\", \"Family Income\": \"75K-100K\", \"Number of People\": 164.3494805}, {\"Race\": \"American Indian, Alaskan Native\", \"Family Income\": \"75K-100K\", \"Number of People\": 72.51381215}, {\"Race\": \"White-American Indian\", \"Family Income\": \"75K-100K\", \"Number of People\": 117.8623719}, {\"Race\": \"Black only\", \"Family Income\": \"100K-150K\", \"Number of People\": 49.29841675}, {\"Race\": \"White only\", \"Family Income\": \"100K-150K\", \"Number of People\": 106.5585118}, {\"Race\": \"Asian only\", \"Family Income\": \"100K-150K\", \"Number of People\": 165.2275721}, {\"Race\": \"American Indian, Alaskan Native\", \"Family Income\": \"100K-150K\", \"Number of People\": 48.34254144}, {\"Race\": \"White-American Indian\", \"Family Income\": \"100K-150K\", \"Number of People\": 62.95754026}, {\"Race\": \"Black only\", \"Family Income\": \"150K-AndOver\", \"Number of People\": 29.78914985}, {\"Race\": \"White only\", \"Family Income\": \"150K-AndOver\", \"Number of People\": 79.47365771}, {\"Race\": \"Asian only\", \"Family Income\": \"150K-AndOver\", \"Number of People\": 174.74023119999998}, {\"Race\": \"American Indian, Alaskan Native\", \"Family Income\": \"150K-AndOver\", \"Number of People\": 26.24309392}, {\"Race\": \"White-American Indian\", \"Family Income\": \"150K-AndOver\", \"Number of People\": 35.87115666}]}}, {\"mode\": \"vega-lite\"});\n",
              "</script>"
            ]
          },
          "metadata": {},
          "execution_count": 10
        }
      ]
    },
    {
      "cell_type": "code",
      "metadata": {
        "id": "sq_QmO3S3fpz"
      },
      "source": [
        "df_final.to_pickle('/content/gdrive/MyDrive/Programming/time_usage_survey_dataset_filtered.pkl')"
      ],
      "execution_count": null,
      "outputs": []
    },
    {
      "cell_type": "code",
      "metadata": {
        "colab": {
          "base_uri": "https://localhost:8080/"
        },
        "id": "Tl2riDPYf-wI",
        "outputId": "b299e7c6-8d25-45e3-fca1-cb1e197e5d3a"
      },
      "source": [
        "import pandas as pd\n",
        "\n",
        "df = pd.read_csv('/content/gdrive/MyDrive/Programming/cereal.csv')\n",
        "print(df)"
      ],
      "execution_count": null,
      "outputs": [
        {
          "output_type": "stream",
          "name": "stdout",
          "text": [
            "                         name mfr type  ...  weight  cups     rating\n",
            "0                   100% Bran   N    C  ...     1.0  0.33  68.402973\n",
            "1           100% Natural Bran   Q    C  ...     1.0  1.00  33.983679\n",
            "2                    All-Bran   K    C  ...     1.0  0.33  59.425505\n",
            "3   All-Bran with Extra Fiber   K    C  ...     1.0  0.50  93.704912\n",
            "4              Almond Delight   R    C  ...     1.0  0.75  34.384843\n",
            "..                        ...  ..  ...  ...     ...   ...        ...\n",
            "72                    Triples   G    C  ...     1.0  0.75  39.106174\n",
            "73                       Trix   G    C  ...     1.0  1.00  27.753301\n",
            "74                 Wheat Chex   R    C  ...     1.0  0.67  49.787445\n",
            "75                   Wheaties   G    C  ...     1.0  1.00  51.592193\n",
            "76        Wheaties Honey Gold   G    C  ...     1.0  0.75  36.187559\n",
            "\n",
            "[77 rows x 16 columns]\n"
          ]
        }
      ]
    },
    {
      "cell_type": "code",
      "metadata": {
        "colab": {
          "base_uri": "https://localhost:8080/"
        },
        "id": "NabeNRXegJy5",
        "outputId": "e57f8713-f5c3-49ae-ee7e-a6fd4d8946ba"
      },
      "source": [
        "df1 = df[['mfr','rating']]\n",
        "print(df1)"
      ],
      "execution_count": null,
      "outputs": [
        {
          "output_type": "stream",
          "name": "stdout",
          "text": [
            "   mfr     rating\n",
            "0    N  68.402973\n",
            "1    Q  33.983679\n",
            "2    K  59.425505\n",
            "3    K  93.704912\n",
            "4    R  34.384843\n",
            "..  ..        ...\n",
            "72   G  39.106174\n",
            "73   G  27.753301\n",
            "74   R  49.787445\n",
            "75   G  51.592193\n",
            "76   G  36.187559\n",
            "\n",
            "[77 rows x 2 columns]\n"
          ]
        }
      ]
    },
    {
      "cell_type": "code",
      "metadata": {
        "colab": {
          "base_uri": "https://localhost:8080/"
        },
        "id": "eaByOi6ljEtc",
        "outputId": "7c7bcb46-9e48-410d-ccb2-549b04813858"
      },
      "source": [
        "brands = ['A', 'G', 'K', 'N', 'P', 'Q', 'R']\n",
        "final = []\n",
        "\n",
        "#holder = df1[(df1['rating'] > 70) & (df1['rating'] < 90)].count()\n",
        "#print(holder['rating'])\n",
        "\n",
        "for i in brands:\n",
        "  temp = df1.loc[df1['mfr'] == i]\n",
        "  arr = []\n",
        "  for j in range(0, 20):\n",
        "    start = 5 * j\n",
        "    end = 5 * (j+1)\n",
        "    vals = temp[(temp['rating'] > start) & (temp['rating'] <= end)].count()\n",
        "    arr.append(vals['rating'])\n",
        "\n",
        "  final_add = {i: arr}\n",
        "  final.append(final_add)\n",
        "\n",
        "for row in final:\n",
        "  print(row)\n"
      ],
      "execution_count": null,
      "outputs": [
        {
          "output_type": "stream",
          "name": "stdout",
          "text": [
            "{'A': [0, 0, 0, 0, 0, 0, 0, 0, 0, 0, 1, 0, 0, 0, 0, 0, 0, 0, 0, 0]}\n",
            "{'G': [0, 0, 0, 1, 3, 4, 2, 7, 2, 1, 2, 0, 0, 0, 0, 0, 0, 0, 0, 0]}\n",
            "{'K': [0, 0, 0, 0, 0, 1, 5, 4, 5, 2, 1, 4, 0, 0, 0, 0, 0, 0, 1, 0]}\n",
            "{'N': [0, 0, 0, 0, 0, 0, 0, 0, 0, 0, 0, 1, 1, 2, 2, 0, 0, 0, 0, 0]}\n",
            "{'P': [0, 0, 0, 0, 0, 2, 0, 2, 1, 1, 3, 0, 0, 0, 0, 0, 0, 0, 0, 0]}\n",
            "{'Q': [0, 0, 0, 1, 1, 0, 1, 0, 0, 2, 1, 0, 2, 0, 0, 0, 0, 0, 0, 0]}\n",
            "{'R': [0, 0, 0, 0, 0, 0, 2, 1, 3, 2, 0, 0, 0, 0, 0, 0, 0, 0, 0, 0]}\n"
          ]
        }
      ]
    },
    {
      "cell_type": "code",
      "metadata": {
        "colab": {
          "base_uri": "https://localhost:8080/"
        },
        "id": "P-Ap5Yqp2AJ4",
        "outputId": "c3dc3f80-552e-423d-eb3c-4c925e4a5ded"
      },
      "source": [
        "import pandas as pd\n",
        "\n",
        "df_final = pd.read_csv ('/content/gdrive/MyDrive/Programming/temp2.csv')\n",
        "df_final = df_final[df_final['Rating'].notna()]\n",
        "print (df_final)"
      ],
      "execution_count": null,
      "outputs": [
        {
          "output_type": "stream",
          "name": "stdout",
          "text": [
            "    Manufacturer  Rating  Number of Cereals\n",
            "0              A     0-5                0.0\n",
            "1              G     0-5                0.0\n",
            "2              K     0-5                0.0\n",
            "3              N     0-5                0.0\n",
            "4              P     0-5                0.0\n",
            "..           ...     ...                ...\n",
            "135            K  95-100                0.0\n",
            "136            N  95-100                0.0\n",
            "137            P  95-100                0.0\n",
            "138            Q  95-100                0.0\n",
            "139            R  95-100                0.0\n",
            "\n",
            "[140 rows x 3 columns]\n"
          ]
        }
      ]
    },
    {
      "cell_type": "code",
      "metadata": {
        "colab": {
          "base_uri": "https://localhost:8080/"
        },
        "id": "M3Khs-tX3ESa",
        "outputId": "2e0573ad-621d-4229-84ee-89bd9fd0ced5"
      },
      "source": [
        "order_ofRatings = list(df_final['Rating'].unique())\n",
        "print(order_ofRatings)\n",
        "#order_ofRatings.sort()\n",
        "#print(order_ofRatings)"
      ],
      "execution_count": null,
      "outputs": [
        {
          "output_type": "stream",
          "name": "stdout",
          "text": [
            "['0-5', '5-10', '10-15', '15-20', '20-25', '25-30', '30-35', '35-40', '40-45', '45-50', '50-55', '55-60', '60-65', '65-70', '70-75', '75-80', '80-85', '85-90', '90-95', '95-100']\n"
          ]
        }
      ]
    },
    {
      "cell_type": "code",
      "metadata": {
        "colab": {
          "base_uri": "https://localhost:8080/",
          "height": 390
        },
        "id": "T5BNLVZI3Srm",
        "outputId": "925f7888-e268-4200-92f9-9ca4c5a42ef8"
      },
      "source": [
        "import altair as alt\n",
        "from vega_datasets import data\n",
        "\n",
        "alt.Chart(df_final).mark_bar().encode(\n",
        "    x = alt.X('Rating', sort=order_ofRatings),\n",
        "    y = 'Number of Cereals',\n",
        "    color = 'Manufacturer'\n",
        ")"
      ],
      "execution_count": null,
      "outputs": [
        {
          "output_type": "execute_result",
          "data": {
            "text/plain": [
              "alt.Chart(...)"
            ],
            "text/html": [
              "\n",
              "<div id=\"altair-viz-34e37f8e624947c5adda1d7ce9fafb49\"></div>\n",
              "<script type=\"text/javascript\">\n",
              "  (function(spec, embedOpt){\n",
              "    let outputDiv = document.currentScript.previousElementSibling;\n",
              "    if (outputDiv.id !== \"altair-viz-34e37f8e624947c5adda1d7ce9fafb49\") {\n",
              "      outputDiv = document.getElementById(\"altair-viz-34e37f8e624947c5adda1d7ce9fafb49\");\n",
              "    }\n",
              "    const paths = {\n",
              "      \"vega\": \"https://cdn.jsdelivr.net/npm//vega@5?noext\",\n",
              "      \"vega-lib\": \"https://cdn.jsdelivr.net/npm//vega-lib?noext\",\n",
              "      \"vega-lite\": \"https://cdn.jsdelivr.net/npm//vega-lite@4.8.1?noext\",\n",
              "      \"vega-embed\": \"https://cdn.jsdelivr.net/npm//vega-embed@6?noext\",\n",
              "    };\n",
              "\n",
              "    function loadScript(lib) {\n",
              "      return new Promise(function(resolve, reject) {\n",
              "        var s = document.createElement('script');\n",
              "        s.src = paths[lib];\n",
              "        s.async = true;\n",
              "        s.onload = () => resolve(paths[lib]);\n",
              "        s.onerror = () => reject(`Error loading script: ${paths[lib]}`);\n",
              "        document.getElementsByTagName(\"head\")[0].appendChild(s);\n",
              "      });\n",
              "    }\n",
              "\n",
              "    function showError(err) {\n",
              "      outputDiv.innerHTML = `<div class=\"error\" style=\"color:red;\">${err}</div>`;\n",
              "      throw err;\n",
              "    }\n",
              "\n",
              "    function displayChart(vegaEmbed) {\n",
              "      vegaEmbed(outputDiv, spec, embedOpt)\n",
              "        .catch(err => showError(`Javascript Error: ${err.message}<br>This usually means there's a typo in your chart specification. See the javascript console for the full traceback.`));\n",
              "    }\n",
              "\n",
              "    if(typeof define === \"function\" && define.amd) {\n",
              "      requirejs.config({paths});\n",
              "      require([\"vega-embed\"], displayChart, err => showError(`Error loading script: ${err.message}`));\n",
              "    } else if (typeof vegaEmbed === \"function\") {\n",
              "      displayChart(vegaEmbed);\n",
              "    } else {\n",
              "      loadScript(\"vega\")\n",
              "        .then(() => loadScript(\"vega-lite\"))\n",
              "        .then(() => loadScript(\"vega-embed\"))\n",
              "        .catch(showError)\n",
              "        .then(() => displayChart(vegaEmbed));\n",
              "    }\n",
              "  })({\"config\": {\"view\": {\"continuousWidth\": 400, \"continuousHeight\": 300}}, \"data\": {\"name\": \"data-540d4807ca05178491c7dc9accc13865\"}, \"mark\": \"bar\", \"encoding\": {\"color\": {\"type\": \"nominal\", \"field\": \"Manufacturer\"}, \"x\": {\"type\": \"nominal\", \"field\": \"Rating\", \"sort\": [\"0-5\", \"5-10\", \"10-15\", \"15-20\", \"20-25\", \"25-30\", \"30-35\", \"35-40\", \"40-45\", \"45-50\", \"50-55\", \"55-60\", \"60-65\", \"65-70\", \"70-75\", \"75-80\", \"80-85\", \"85-90\", \"90-95\", \"95-100\"]}, \"y\": {\"type\": \"quantitative\", \"field\": \"Number of Cereals\"}}, \"$schema\": \"https://vega.github.io/schema/vega-lite/v4.8.1.json\", \"datasets\": {\"data-540d4807ca05178491c7dc9accc13865\": [{\"Manufacturer\": \"A\", \"Rating\": \"0-5\", \"Number of Cereals\": 0.0}, {\"Manufacturer\": \"G\", \"Rating\": \"0-5\", \"Number of Cereals\": 0.0}, {\"Manufacturer\": \"K\", \"Rating\": \"0-5\", \"Number of Cereals\": 0.0}, {\"Manufacturer\": \"N\", \"Rating\": \"0-5\", \"Number of Cereals\": 0.0}, {\"Manufacturer\": \"P\", \"Rating\": \"0-5\", \"Number of Cereals\": 0.0}, {\"Manufacturer\": \"Q\", \"Rating\": \"0-5\", \"Number of Cereals\": 0.0}, {\"Manufacturer\": \"R\", \"Rating\": \"0-5\", \"Number of Cereals\": 0.0}, {\"Manufacturer\": \"A\", \"Rating\": \"5-10\", \"Number of Cereals\": 0.0}, {\"Manufacturer\": \"G\", \"Rating\": \"5-10\", \"Number of Cereals\": 0.0}, {\"Manufacturer\": \"K\", \"Rating\": \"5-10\", \"Number of Cereals\": 0.0}, {\"Manufacturer\": \"N\", \"Rating\": \"5-10\", \"Number of Cereals\": 0.0}, {\"Manufacturer\": \"P\", \"Rating\": \"5-10\", \"Number of Cereals\": 0.0}, {\"Manufacturer\": \"Q\", \"Rating\": \"5-10\", \"Number of Cereals\": 0.0}, {\"Manufacturer\": \"R\", \"Rating\": \"5-10\", \"Number of Cereals\": 0.0}, {\"Manufacturer\": \"A\", \"Rating\": \"10-15\", \"Number of Cereals\": 0.0}, {\"Manufacturer\": \"G\", \"Rating\": \"10-15\", \"Number of Cereals\": 0.0}, {\"Manufacturer\": \"K\", \"Rating\": \"10-15\", \"Number of Cereals\": 0.0}, {\"Manufacturer\": \"N\", \"Rating\": \"10-15\", \"Number of Cereals\": 0.0}, {\"Manufacturer\": \"P\", \"Rating\": \"10-15\", \"Number of Cereals\": 0.0}, {\"Manufacturer\": \"Q\", \"Rating\": \"10-15\", \"Number of Cereals\": 0.0}, {\"Manufacturer\": \"R\", \"Rating\": \"10-15\", \"Number of Cereals\": 0.0}, {\"Manufacturer\": \"A\", \"Rating\": \"15-20\", \"Number of Cereals\": 0.0}, {\"Manufacturer\": \"G\", \"Rating\": \"15-20\", \"Number of Cereals\": 1.0}, {\"Manufacturer\": \"K\", \"Rating\": \"15-20\", \"Number of Cereals\": 0.0}, {\"Manufacturer\": \"N\", \"Rating\": \"15-20\", \"Number of Cereals\": 0.0}, {\"Manufacturer\": \"P\", \"Rating\": \"15-20\", \"Number of Cereals\": 0.0}, {\"Manufacturer\": \"Q\", \"Rating\": \"15-20\", \"Number of Cereals\": 1.0}, {\"Manufacturer\": \"R\", \"Rating\": \"15-20\", \"Number of Cereals\": 0.0}, {\"Manufacturer\": \"A\", \"Rating\": \"20-25\", \"Number of Cereals\": 0.0}, {\"Manufacturer\": \"G\", \"Rating\": \"20-25\", \"Number of Cereals\": 3.0}, {\"Manufacturer\": \"K\", \"Rating\": \"20-25\", \"Number of Cereals\": 0.0}, {\"Manufacturer\": \"N\", \"Rating\": \"20-25\", \"Number of Cereals\": 0.0}, {\"Manufacturer\": \"P\", \"Rating\": \"20-25\", \"Number of Cereals\": 0.0}, {\"Manufacturer\": \"Q\", \"Rating\": \"20-25\", \"Number of Cereals\": 1.0}, {\"Manufacturer\": \"R\", \"Rating\": \"20-25\", \"Number of Cereals\": 0.0}, {\"Manufacturer\": \"A\", \"Rating\": \"25-30\", \"Number of Cereals\": 0.0}, {\"Manufacturer\": \"G\", \"Rating\": \"25-30\", \"Number of Cereals\": 4.0}, {\"Manufacturer\": \"K\", \"Rating\": \"25-30\", \"Number of Cereals\": 1.0}, {\"Manufacturer\": \"N\", \"Rating\": \"25-30\", \"Number of Cereals\": 0.0}, {\"Manufacturer\": \"P\", \"Rating\": \"25-30\", \"Number of Cereals\": 2.0}, {\"Manufacturer\": \"Q\", \"Rating\": \"25-30\", \"Number of Cereals\": 0.0}, {\"Manufacturer\": \"R\", \"Rating\": \"25-30\", \"Number of Cereals\": 0.0}, {\"Manufacturer\": \"A\", \"Rating\": \"30-35\", \"Number of Cereals\": 0.0}, {\"Manufacturer\": \"G\", \"Rating\": \"30-35\", \"Number of Cereals\": 2.0}, {\"Manufacturer\": \"K\", \"Rating\": \"30-35\", \"Number of Cereals\": 5.0}, {\"Manufacturer\": \"N\", \"Rating\": \"30-35\", \"Number of Cereals\": 0.0}, {\"Manufacturer\": \"P\", \"Rating\": \"30-35\", \"Number of Cereals\": 0.0}, {\"Manufacturer\": \"Q\", \"Rating\": \"30-35\", \"Number of Cereals\": 1.0}, {\"Manufacturer\": \"R\", \"Rating\": \"30-35\", \"Number of Cereals\": 2.0}, {\"Manufacturer\": \"A\", \"Rating\": \"35-40\", \"Number of Cereals\": 0.0}, {\"Manufacturer\": \"G\", \"Rating\": \"35-40\", \"Number of Cereals\": 7.0}, {\"Manufacturer\": \"K\", \"Rating\": \"35-40\", \"Number of Cereals\": 4.0}, {\"Manufacturer\": \"N\", \"Rating\": \"35-40\", \"Number of Cereals\": 0.0}, {\"Manufacturer\": \"P\", \"Rating\": \"35-40\", \"Number of Cereals\": 2.0}, {\"Manufacturer\": \"Q\", \"Rating\": \"35-40\", \"Number of Cereals\": 0.0}, {\"Manufacturer\": \"R\", \"Rating\": \"35-40\", \"Number of Cereals\": 1.0}, {\"Manufacturer\": \"A\", \"Rating\": \"40-45\", \"Number of Cereals\": 0.0}, {\"Manufacturer\": \"G\", \"Rating\": \"40-45\", \"Number of Cereals\": 2.0}, {\"Manufacturer\": \"K\", \"Rating\": \"40-45\", \"Number of Cereals\": 5.0}, {\"Manufacturer\": \"N\", \"Rating\": \"40-45\", \"Number of Cereals\": 0.0}, {\"Manufacturer\": \"P\", \"Rating\": \"40-45\", \"Number of Cereals\": 1.0}, {\"Manufacturer\": \"Q\", \"Rating\": \"40-45\", \"Number of Cereals\": 0.0}, {\"Manufacturer\": \"R\", \"Rating\": \"40-45\", \"Number of Cereals\": 3.0}, {\"Manufacturer\": \"A\", \"Rating\": \"45-50\", \"Number of Cereals\": 0.0}, {\"Manufacturer\": \"G\", \"Rating\": \"45-50\", \"Number of Cereals\": 1.0}, {\"Manufacturer\": \"K\", \"Rating\": \"45-50\", \"Number of Cereals\": 2.0}, {\"Manufacturer\": \"N\", \"Rating\": \"45-50\", \"Number of Cereals\": 0.0}, {\"Manufacturer\": \"P\", \"Rating\": \"45-50\", \"Number of Cereals\": 1.0}, {\"Manufacturer\": \"Q\", \"Rating\": \"45-50\", \"Number of Cereals\": 2.0}, {\"Manufacturer\": \"R\", \"Rating\": \"45-50\", \"Number of Cereals\": 2.0}, {\"Manufacturer\": \"A\", \"Rating\": \"50-55\", \"Number of Cereals\": 1.0}, {\"Manufacturer\": \"G\", \"Rating\": \"50-55\", \"Number of Cereals\": 2.0}, {\"Manufacturer\": \"K\", \"Rating\": \"50-55\", \"Number of Cereals\": 1.0}, {\"Manufacturer\": \"N\", \"Rating\": \"50-55\", \"Number of Cereals\": 0.0}, {\"Manufacturer\": \"P\", \"Rating\": \"50-55\", \"Number of Cereals\": 3.0}, {\"Manufacturer\": \"Q\", \"Rating\": \"50-55\", \"Number of Cereals\": 1.0}, {\"Manufacturer\": \"R\", \"Rating\": \"50-55\", \"Number of Cereals\": 0.0}, {\"Manufacturer\": \"A\", \"Rating\": \"55-60\", \"Number of Cereals\": 0.0}, {\"Manufacturer\": \"G\", \"Rating\": \"55-60\", \"Number of Cereals\": 0.0}, {\"Manufacturer\": \"K\", \"Rating\": \"55-60\", \"Number of Cereals\": 4.0}, {\"Manufacturer\": \"N\", \"Rating\": \"55-60\", \"Number of Cereals\": 1.0}, {\"Manufacturer\": \"P\", \"Rating\": \"55-60\", \"Number of Cereals\": 0.0}, {\"Manufacturer\": \"Q\", \"Rating\": \"55-60\", \"Number of Cereals\": 0.0}, {\"Manufacturer\": \"R\", \"Rating\": \"55-60\", \"Number of Cereals\": 0.0}, {\"Manufacturer\": \"A\", \"Rating\": \"60-65\", \"Number of Cereals\": 0.0}, {\"Manufacturer\": \"G\", \"Rating\": \"60-65\", \"Number of Cereals\": 0.0}, {\"Manufacturer\": \"K\", \"Rating\": \"60-65\", \"Number of Cereals\": 0.0}, {\"Manufacturer\": \"N\", \"Rating\": \"60-65\", \"Number of Cereals\": 1.0}, {\"Manufacturer\": \"P\", \"Rating\": \"60-65\", \"Number of Cereals\": 0.0}, {\"Manufacturer\": \"Q\", \"Rating\": \"60-65\", \"Number of Cereals\": 2.0}, {\"Manufacturer\": \"R\", \"Rating\": \"60-65\", \"Number of Cereals\": 0.0}, {\"Manufacturer\": \"A\", \"Rating\": \"65-70\", \"Number of Cereals\": 0.0}, {\"Manufacturer\": \"G\", \"Rating\": \"65-70\", \"Number of Cereals\": 0.0}, {\"Manufacturer\": \"K\", \"Rating\": \"65-70\", \"Number of Cereals\": 0.0}, {\"Manufacturer\": \"N\", \"Rating\": \"65-70\", \"Number of Cereals\": 2.0}, {\"Manufacturer\": \"P\", \"Rating\": \"65-70\", \"Number of Cereals\": 0.0}, {\"Manufacturer\": \"Q\", \"Rating\": \"65-70\", \"Number of Cereals\": 0.0}, {\"Manufacturer\": \"R\", \"Rating\": \"65-70\", \"Number of Cereals\": 0.0}, {\"Manufacturer\": \"A\", \"Rating\": \"70-75\", \"Number of Cereals\": 0.0}, {\"Manufacturer\": \"G\", \"Rating\": \"70-75\", \"Number of Cereals\": 0.0}, {\"Manufacturer\": \"K\", \"Rating\": \"70-75\", \"Number of Cereals\": 0.0}, {\"Manufacturer\": \"N\", \"Rating\": \"70-75\", \"Number of Cereals\": 2.0}, {\"Manufacturer\": \"P\", \"Rating\": \"70-75\", \"Number of Cereals\": 0.0}, {\"Manufacturer\": \"Q\", \"Rating\": \"70-75\", \"Number of Cereals\": 0.0}, {\"Manufacturer\": \"R\", \"Rating\": \"70-75\", \"Number of Cereals\": 0.0}, {\"Manufacturer\": \"A\", \"Rating\": \"75-80\", \"Number of Cereals\": 0.0}, {\"Manufacturer\": \"G\", \"Rating\": \"75-80\", \"Number of Cereals\": 0.0}, {\"Manufacturer\": \"K\", \"Rating\": \"75-80\", \"Number of Cereals\": 0.0}, {\"Manufacturer\": \"N\", \"Rating\": \"75-80\", \"Number of Cereals\": 0.0}, {\"Manufacturer\": \"P\", \"Rating\": \"75-80\", \"Number of Cereals\": 0.0}, {\"Manufacturer\": \"Q\", \"Rating\": \"75-80\", \"Number of Cereals\": 0.0}, {\"Manufacturer\": \"R\", \"Rating\": \"75-80\", \"Number of Cereals\": 0.0}, {\"Manufacturer\": \"A\", \"Rating\": \"80-85\", \"Number of Cereals\": 0.0}, {\"Manufacturer\": \"G\", \"Rating\": \"80-85\", \"Number of Cereals\": 0.0}, {\"Manufacturer\": \"K\", \"Rating\": \"80-85\", \"Number of Cereals\": 0.0}, {\"Manufacturer\": \"N\", \"Rating\": \"80-85\", \"Number of Cereals\": 0.0}, {\"Manufacturer\": \"P\", \"Rating\": \"80-85\", \"Number of Cereals\": 0.0}, {\"Manufacturer\": \"Q\", \"Rating\": \"80-85\", \"Number of Cereals\": 0.0}, {\"Manufacturer\": \"R\", \"Rating\": \"80-85\", \"Number of Cereals\": 0.0}, {\"Manufacturer\": \"A\", \"Rating\": \"85-90\", \"Number of Cereals\": 0.0}, {\"Manufacturer\": \"G\", \"Rating\": \"85-90\", \"Number of Cereals\": 0.0}, {\"Manufacturer\": \"K\", \"Rating\": \"85-90\", \"Number of Cereals\": 0.0}, {\"Manufacturer\": \"N\", \"Rating\": \"85-90\", \"Number of Cereals\": 0.0}, {\"Manufacturer\": \"P\", \"Rating\": \"85-90\", \"Number of Cereals\": 0.0}, {\"Manufacturer\": \"Q\", \"Rating\": \"85-90\", \"Number of Cereals\": 0.0}, {\"Manufacturer\": \"R\", \"Rating\": \"85-90\", \"Number of Cereals\": 0.0}, {\"Manufacturer\": \"A\", \"Rating\": \"90-95\", \"Number of Cereals\": 0.0}, {\"Manufacturer\": \"G\", \"Rating\": \"90-95\", \"Number of Cereals\": 0.0}, {\"Manufacturer\": \"K\", \"Rating\": \"90-95\", \"Number of Cereals\": 1.0}, {\"Manufacturer\": \"N\", \"Rating\": \"90-95\", \"Number of Cereals\": 0.0}, {\"Manufacturer\": \"P\", \"Rating\": \"90-95\", \"Number of Cereals\": 0.0}, {\"Manufacturer\": \"Q\", \"Rating\": \"90-95\", \"Number of Cereals\": 0.0}, {\"Manufacturer\": \"R\", \"Rating\": \"90-95\", \"Number of Cereals\": 0.0}, {\"Manufacturer\": \"A\", \"Rating\": \"95-100\", \"Number of Cereals\": 0.0}, {\"Manufacturer\": \"G\", \"Rating\": \"95-100\", \"Number of Cereals\": 0.0}, {\"Manufacturer\": \"K\", \"Rating\": \"95-100\", \"Number of Cereals\": 0.0}, {\"Manufacturer\": \"N\", \"Rating\": \"95-100\", \"Number of Cereals\": 0.0}, {\"Manufacturer\": \"P\", \"Rating\": \"95-100\", \"Number of Cereals\": 0.0}, {\"Manufacturer\": \"Q\", \"Rating\": \"95-100\", \"Number of Cereals\": 0.0}, {\"Manufacturer\": \"R\", \"Rating\": \"95-100\", \"Number of Cereals\": 0.0}]}}, {\"mode\": \"vega-lite\"});\n",
              "</script>"
            ]
          },
          "metadata": {},
          "execution_count": 22
        }
      ]
    },
    {
      "cell_type": "code",
      "metadata": {
        "id": "7e7_9boG3i41"
      },
      "source": [
        "df_final.to_pickle('/content/gdrive/MyDrive/Programming/cereals_dataset_filtered2.pkl')"
      ],
      "execution_count": null,
      "outputs": []
    },
    {
      "cell_type": "code",
      "metadata": {
        "colab": {
          "base_uri": "https://localhost:8080/"
        },
        "id": "l4se0IbEB01q",
        "outputId": "05ff1ef7-d445-4947-a5cd-0a9d92dea6b5"
      },
      "source": [
        "import pandas as pd\n",
        "\n",
        "df = pd.read_csv('/content/gdrive/MyDrive/Programming/museums.csv')\n",
        "print(df)"
      ],
      "execution_count": null,
      "outputs": [
        {
          "output_type": "stream",
          "name": "stdout",
          "text": [
            "        Museum ID  ...    Revenue\n",
            "0      8400200098  ...   550236.0\n",
            "1      8400200117  ...  1323742.0\n",
            "2      8400200153  ...   729080.0\n",
            "3      8400200143  ...        0.0\n",
            "4      8400200027  ...   550236.0\n",
            "...           ...  ...        ...\n",
            "33067  8405600184  ...        NaN\n",
            "33068  8405600061  ...        0.0\n",
            "33069  8405600158  ...    83981.0\n",
            "33070  8405600137  ...        0.0\n",
            "33071  8405600199  ...   126762.0\n",
            "\n",
            "[33072 rows x 25 columns]\n"
          ]
        },
        {
          "output_type": "stream",
          "name": "stderr",
          "text": [
            "/usr/local/lib/python3.7/dist-packages/IPython/core/interactiveshell.py:2718: DtypeWarning: Columns (9,14,21) have mixed types.Specify dtype option on import or set low_memory=False.\n",
            "  interactivity=interactivity, compiler=compiler, result=result)\n"
          ]
        }
      ]
    },
    {
      "cell_type": "code",
      "metadata": {
        "colab": {
          "base_uri": "https://localhost:8080/"
        },
        "id": "-YxDomYmDB4m",
        "outputId": "5a319680-2c30-4e94-e237-b85bf57ca1bd"
      },
      "source": [
        "df1 = df[['Museum Type','Revenue']]\n",
        "print(df1)"
      ],
      "execution_count": null,
      "outputs": [
        {
          "output_type": "stream",
          "name": "stdout",
          "text": [
            "                                         Museum Type    Revenue\n",
            "0                                     HISTORY MUSEUM   550236.0\n",
            "1      ARBORETUM, BOTANICAL GARDEN, OR NATURE CENTER  1323742.0\n",
            "2         SCIENCE & TECHNOLOGY MUSEUM OR PLANETARIUM   729080.0\n",
            "3                              HISTORIC PRESERVATION        0.0\n",
            "4                                     HISTORY MUSEUM   550236.0\n",
            "...                                              ...        ...\n",
            "33067                          HISTORIC PRESERVATION        NaN\n",
            "33068                                 GENERAL MUSEUM        0.0\n",
            "33069                          HISTORIC PRESERVATION    83981.0\n",
            "33070                                 HISTORY MUSEUM        0.0\n",
            "33071                          HISTORIC PRESERVATION   126762.0\n",
            "\n",
            "[33072 rows x 2 columns]\n"
          ]
        }
      ]
    },
    {
      "cell_type": "code",
      "metadata": {
        "colab": {
          "base_uri": "https://localhost:8080/"
        },
        "id": "25pge_ESD0bC",
        "outputId": "b6c20b34-5d6f-476a-c529-a00de6314fe8"
      },
      "source": [
        "df1 = df1.dropna()\n",
        "print(df1)"
      ],
      "execution_count": null,
      "outputs": [
        {
          "output_type": "stream",
          "name": "stdout",
          "text": [
            "                                         Museum Type    Revenue\n",
            "0                                     HISTORY MUSEUM   550236.0\n",
            "1      ARBORETUM, BOTANICAL GARDEN, OR NATURE CENTER  1323742.0\n",
            "2         SCIENCE & TECHNOLOGY MUSEUM OR PLANETARIUM   729080.0\n",
            "3                              HISTORIC PRESERVATION        0.0\n",
            "4                                     HISTORY MUSEUM   550236.0\n",
            "...                                              ...        ...\n",
            "33063                                     ART MUSEUM    43695.0\n",
            "33068                                 GENERAL MUSEUM        0.0\n",
            "33069                          HISTORIC PRESERVATION    83981.0\n",
            "33070                                 HISTORY MUSEUM        0.0\n",
            "33071                          HISTORIC PRESERVATION   126762.0\n",
            "\n",
            "[22290 rows x 2 columns]\n"
          ]
        }
      ]
    },
    {
      "cell_type": "code",
      "metadata": {
        "colab": {
          "base_uri": "https://localhost:8080/"
        },
        "id": "SFUyns7yEtfV",
        "outputId": "ebdb9883-8daf-421f-d595-3f5c5956851f"
      },
      "source": [
        "df2 = df1[df1['Revenue'] > 0.0]\n",
        "print(df2)"
      ],
      "execution_count": null,
      "outputs": [
        {
          "output_type": "stream",
          "name": "stdout",
          "text": [
            "                                         Museum Type    Revenue\n",
            "0                                     HISTORY MUSEUM   550236.0\n",
            "1      ARBORETUM, BOTANICAL GARDEN, OR NATURE CENTER  1323742.0\n",
            "2         SCIENCE & TECHNOLOGY MUSEUM OR PLANETARIUM   729080.0\n",
            "4                                     HISTORY MUSEUM   550236.0\n",
            "6                                     GENERAL MUSEUM    34374.0\n",
            "...                                              ...        ...\n",
            "33051                          HISTORIC PRESERVATION   337100.0\n",
            "33054                                 HISTORY MUSEUM    36399.0\n",
            "33063                                     ART MUSEUM    43695.0\n",
            "33069                          HISTORIC PRESERVATION    83981.0\n",
            "33071                          HISTORIC PRESERVATION   126762.0\n",
            "\n",
            "[11467 rows x 2 columns]\n"
          ]
        }
      ]
    },
    {
      "cell_type": "code",
      "metadata": {
        "colab": {
          "base_uri": "https://localhost:8080/"
        },
        "id": "AdHVdgjxF50W",
        "outputId": "0c56d810-375d-4f2a-d602-434f6ea324fc"
      },
      "source": [
        "museum_types = list(df2['Museum Type'].unique())\n",
        "#print(len(order_ofRatings))\n",
        "revenue_list = df2['Revenue'].tolist()\n",
        "print(len(revenue_list))\n",
        "\n",
        "import numpy as np\n",
        "\n",
        "rev = np.array(revenue_list)\n",
        "curr = [np.percentile(rev, 0), np.percentile(rev, 5), np.percentile(rev, 10), np.percentile(rev, 15), np.percentile(rev, 20), np.percentile(rev, 25), np.percentile(rev, 30), np.percentile(rev, 35), np.percentile(rev, 40), np.percentile(rev, 45), np.percentile(rev, 50), np.percentile(rev, 55), np.percentile(rev, 60), np.percentile(rev, 65), np.percentile(rev, 70), np.percentile(rev, 75), np.percentile(rev, 80), np.percentile(rev, 85), np.percentile(rev, 90), np.percentile(rev, 95), np.percentile(rev, 100)]\n",
        "print(curr)\n"
      ],
      "execution_count": null,
      "outputs": [
        {
          "output_type": "stream",
          "name": "stdout",
          "text": [
            "11467\n",
            "[2.0, 7083.5, 16434.800000000007, 27048.7, 38146.8, 49531.0, 63603.0, 79353.4, 97799.20000000001, 125198.0, 156377.0, 202729.70000000004, 265981.3999999999, 370920.00000000023, 535031.0, 826326.5, 1469786.0000000002, 3460390.1000000006, 15070932.999999989, 92521597.0, 5840349457.0]\n"
          ]
        }
      ]
    },
    {
      "cell_type": "code",
      "metadata": {
        "colab": {
          "base_uri": "https://localhost:8080/"
        },
        "id": "eFFSwfsNI1er",
        "outputId": "dc2e9244-3296-4dd5-eedb-88cb2b990821"
      },
      "source": [
        "print(museum_types)"
      ],
      "execution_count": null,
      "outputs": [
        {
          "output_type": "stream",
          "name": "stdout",
          "text": [
            "['HISTORY MUSEUM', 'ARBORETUM, BOTANICAL GARDEN, OR NATURE CENTER', 'SCIENCE & TECHNOLOGY MUSEUM OR PLANETARIUM', 'GENERAL MUSEUM', 'HISTORIC PRESERVATION', 'ZOO, AQUARIUM, OR WILDLIFE CONSERVATION', 'ART MUSEUM', \"CHILDREN'S MUSEUM\", 'NATURAL HISTORY MUSEUM']\n"
          ]
        }
      ]
    },
    {
      "cell_type": "code",
      "metadata": {
        "colab": {
          "base_uri": "https://localhost:8080/"
        },
        "id": "O7QZPDu8KO-8",
        "outputId": "76f19abf-bba0-46f0-b218-b1daeb81ba12"
      },
      "source": [
        "final = []\n",
        "\n",
        "#holder = df1[(df1['rating'] > 70) & (df1['rating'] < 90)].count()\n",
        "#print(holder['rating'])\n",
        "\n",
        "for i in museum_types:\n",
        "  rev_options = []\n",
        "  temp = df2.loc[df2['Museum Type'] == i]\n",
        "  arr = []\n",
        "  end = 0\n",
        "  for j in range(0, 20):\n",
        "    if(j < 10):\n",
        "      start = end\n",
        "      end = (5000*(j+1)) + start\n",
        "      vals = temp[(temp['Revenue'] > start) & (temp['Revenue'] <= end)].count()\n",
        "      arr.append(vals['Revenue'])\n",
        "      strHolder = str(start) + '-' + str(end)\n",
        "      rev_options.append(strHolder)\n",
        "    else:\n",
        "      start = end\n",
        "      end = (20000*(j+1)) + start\n",
        "      vals = temp[(temp['Revenue'] > start) & (temp['Revenue'] <= end)].count()\n",
        "      arr.append(vals['Revenue'])\n",
        "      strHolder = str(start) + '-' + str(end)\n",
        "      rev_options.append(strHolder)\n",
        "\n",
        "  final_add = {i: arr}\n",
        "  final.append(final_add)\n",
        "\n",
        "for row in final:\n",
        "  print(row)"
      ],
      "execution_count": null,
      "outputs": [
        {
          "output_type": "stream",
          "name": "stdout",
          "text": [
            "{'HISTORY MUSEUM': [45, 64, 99, 129, 113, 113, 94, 86, 69, 52, 124, 63, 28, 26, 24, 10, 13, 3, 11, 6]}\n",
            "{'ARBORETUM, BOTANICAL GARDEN, OR NATURE CENTER': [10, 12, 16, 18, 25, 23, 18, 18, 20, 22, 51, 30, 28, 21, 23, 14, 9, 8, 7, 2]}\n",
            "{'SCIENCE & TECHNOLOGY MUSEUM OR PLANETARIUM': [4, 11, 9, 7, 11, 10, 12, 14, 9, 7, 31, 17, 7, 8, 9, 8, 12, 10, 6, 3]}\n",
            "{'GENERAL MUSEUM': [77, 104, 157, 181, 196, 167, 152, 115, 81, 73, 225, 133, 93, 59, 46, 37, 28, 31, 22, 13]}\n",
            "{'HISTORIC PRESERVATION': [283, 389, 480, 625, 551, 502, 347, 297, 237, 195, 351, 199, 110, 55, 59, 32, 18, 19, 22, 14]}\n",
            "{'ZOO, AQUARIUM, OR WILDLIFE CONSERVATION': [2, 8, 6, 10, 9, 9, 6, 3, 4, 8, 18, 12, 13, 10, 8, 6, 2, 5, 3, 5]}\n",
            "{'ART MUSEUM': [20, 19, 27, 43, 51, 43, 61, 42, 44, 28, 93, 63, 54, 32, 22, 24, 16, 10, 22, 8]}\n",
            "{\"CHILDREN'S MUSEUM\": [1, 2, 7, 8, 9, 12, 15, 14, 12, 10, 48, 28, 14, 17, 7, 6, 7, 2, 7, 5]}\n",
            "{'NATURAL HISTORY MUSEUM': [5, 4, 3, 7, 12, 12, 11, 4, 5, 3, 9, 14, 4, 4, 1, 2, 5, 1, 1, 0]}\n"
          ]
        }
      ]
    },
    {
      "cell_type": "code",
      "metadata": {
        "colab": {
          "base_uri": "https://localhost:8080/"
        },
        "id": "enjZN18HK5UP",
        "outputId": "52d62fa5-e65c-4554-e852-ed77fecbbb37"
      },
      "source": [
        "print(rev_options)"
      ],
      "execution_count": null,
      "outputs": [
        {
          "output_type": "stream",
          "name": "stdout",
          "text": [
            "['0-5000', '5000-15000', '15000-30000', '30000-50000', '50000-75000', '75000-105000', '105000-140000', '140000-180000', '180000-225000', '225000-275000', '275000-495000', '495000-735000', '735000-995000', '995000-1275000', '1275000-1575000', '1575000-1895000', '1895000-2235000', '2235000-2595000', '2595000-2975000', '2975000-3375000']\n"
          ]
        }
      ]
    },
    {
      "cell_type": "code",
      "metadata": {
        "colab": {
          "base_uri": "https://localhost:8080/"
        },
        "id": "sHHlIhAKL45x",
        "outputId": "77d46537-46c9-484d-eb2e-760d22e821af"
      },
      "source": [
        "answer = []\n",
        "for row in final:\n",
        "  for key in row:\n",
        "    mus_name = key\n",
        "    listOfRev = row[key]\n",
        "    for i in range(len(rev_options)):\n",
        "      toAdd = [mus_name, rev_options[i], listOfRev[i]]\n",
        "      answer.append(toAdd)\n",
        "\n",
        "print(answer)"
      ],
      "execution_count": null,
      "outputs": [
        {
          "output_type": "stream",
          "name": "stdout",
          "text": [
            "[['HISTORY MUSEUM', '0-5000', 45], ['HISTORY MUSEUM', '5000-15000', 64], ['HISTORY MUSEUM', '15000-30000', 99], ['HISTORY MUSEUM', '30000-50000', 129], ['HISTORY MUSEUM', '50000-75000', 113], ['HISTORY MUSEUM', '75000-105000', 113], ['HISTORY MUSEUM', '105000-140000', 94], ['HISTORY MUSEUM', '140000-180000', 86], ['HISTORY MUSEUM', '180000-225000', 69], ['HISTORY MUSEUM', '225000-275000', 52], ['HISTORY MUSEUM', '275000-495000', 124], ['HISTORY MUSEUM', '495000-735000', 63], ['HISTORY MUSEUM', '735000-995000', 28], ['HISTORY MUSEUM', '995000-1275000', 26], ['HISTORY MUSEUM', '1275000-1575000', 24], ['HISTORY MUSEUM', '1575000-1895000', 10], ['HISTORY MUSEUM', '1895000-2235000', 13], ['HISTORY MUSEUM', '2235000-2595000', 3], ['HISTORY MUSEUM', '2595000-2975000', 11], ['HISTORY MUSEUM', '2975000-3375000', 6], ['ARBORETUM, BOTANICAL GARDEN, OR NATURE CENTER', '0-5000', 10], ['ARBORETUM, BOTANICAL GARDEN, OR NATURE CENTER', '5000-15000', 12], ['ARBORETUM, BOTANICAL GARDEN, OR NATURE CENTER', '15000-30000', 16], ['ARBORETUM, BOTANICAL GARDEN, OR NATURE CENTER', '30000-50000', 18], ['ARBORETUM, BOTANICAL GARDEN, OR NATURE CENTER', '50000-75000', 25], ['ARBORETUM, BOTANICAL GARDEN, OR NATURE CENTER', '75000-105000', 23], ['ARBORETUM, BOTANICAL GARDEN, OR NATURE CENTER', '105000-140000', 18], ['ARBORETUM, BOTANICAL GARDEN, OR NATURE CENTER', '140000-180000', 18], ['ARBORETUM, BOTANICAL GARDEN, OR NATURE CENTER', '180000-225000', 20], ['ARBORETUM, BOTANICAL GARDEN, OR NATURE CENTER', '225000-275000', 22], ['ARBORETUM, BOTANICAL GARDEN, OR NATURE CENTER', '275000-495000', 51], ['ARBORETUM, BOTANICAL GARDEN, OR NATURE CENTER', '495000-735000', 30], ['ARBORETUM, BOTANICAL GARDEN, OR NATURE CENTER', '735000-995000', 28], ['ARBORETUM, BOTANICAL GARDEN, OR NATURE CENTER', '995000-1275000', 21], ['ARBORETUM, BOTANICAL GARDEN, OR NATURE CENTER', '1275000-1575000', 23], ['ARBORETUM, BOTANICAL GARDEN, OR NATURE CENTER', '1575000-1895000', 14], ['ARBORETUM, BOTANICAL GARDEN, OR NATURE CENTER', '1895000-2235000', 9], ['ARBORETUM, BOTANICAL GARDEN, OR NATURE CENTER', '2235000-2595000', 8], ['ARBORETUM, BOTANICAL GARDEN, OR NATURE CENTER', '2595000-2975000', 7], ['ARBORETUM, BOTANICAL GARDEN, OR NATURE CENTER', '2975000-3375000', 2], ['SCIENCE & TECHNOLOGY MUSEUM OR PLANETARIUM', '0-5000', 4], ['SCIENCE & TECHNOLOGY MUSEUM OR PLANETARIUM', '5000-15000', 11], ['SCIENCE & TECHNOLOGY MUSEUM OR PLANETARIUM', '15000-30000', 9], ['SCIENCE & TECHNOLOGY MUSEUM OR PLANETARIUM', '30000-50000', 7], ['SCIENCE & TECHNOLOGY MUSEUM OR PLANETARIUM', '50000-75000', 11], ['SCIENCE & TECHNOLOGY MUSEUM OR PLANETARIUM', '75000-105000', 10], ['SCIENCE & TECHNOLOGY MUSEUM OR PLANETARIUM', '105000-140000', 12], ['SCIENCE & TECHNOLOGY MUSEUM OR PLANETARIUM', '140000-180000', 14], ['SCIENCE & TECHNOLOGY MUSEUM OR PLANETARIUM', '180000-225000', 9], ['SCIENCE & TECHNOLOGY MUSEUM OR PLANETARIUM', '225000-275000', 7], ['SCIENCE & TECHNOLOGY MUSEUM OR PLANETARIUM', '275000-495000', 31], ['SCIENCE & TECHNOLOGY MUSEUM OR PLANETARIUM', '495000-735000', 17], ['SCIENCE & TECHNOLOGY MUSEUM OR PLANETARIUM', '735000-995000', 7], ['SCIENCE & TECHNOLOGY MUSEUM OR PLANETARIUM', '995000-1275000', 8], ['SCIENCE & TECHNOLOGY MUSEUM OR PLANETARIUM', '1275000-1575000', 9], ['SCIENCE & TECHNOLOGY MUSEUM OR PLANETARIUM', '1575000-1895000', 8], ['SCIENCE & TECHNOLOGY MUSEUM OR PLANETARIUM', '1895000-2235000', 12], ['SCIENCE & TECHNOLOGY MUSEUM OR PLANETARIUM', '2235000-2595000', 10], ['SCIENCE & TECHNOLOGY MUSEUM OR PLANETARIUM', '2595000-2975000', 6], ['SCIENCE & TECHNOLOGY MUSEUM OR PLANETARIUM', '2975000-3375000', 3], ['GENERAL MUSEUM', '0-5000', 77], ['GENERAL MUSEUM', '5000-15000', 104], ['GENERAL MUSEUM', '15000-30000', 157], ['GENERAL MUSEUM', '30000-50000', 181], ['GENERAL MUSEUM', '50000-75000', 196], ['GENERAL MUSEUM', '75000-105000', 167], ['GENERAL MUSEUM', '105000-140000', 152], ['GENERAL MUSEUM', '140000-180000', 115], ['GENERAL MUSEUM', '180000-225000', 81], ['GENERAL MUSEUM', '225000-275000', 73], ['GENERAL MUSEUM', '275000-495000', 225], ['GENERAL MUSEUM', '495000-735000', 133], ['GENERAL MUSEUM', '735000-995000', 93], ['GENERAL MUSEUM', '995000-1275000', 59], ['GENERAL MUSEUM', '1275000-1575000', 46], ['GENERAL MUSEUM', '1575000-1895000', 37], ['GENERAL MUSEUM', '1895000-2235000', 28], ['GENERAL MUSEUM', '2235000-2595000', 31], ['GENERAL MUSEUM', '2595000-2975000', 22], ['GENERAL MUSEUM', '2975000-3375000', 13], ['HISTORIC PRESERVATION', '0-5000', 283], ['HISTORIC PRESERVATION', '5000-15000', 389], ['HISTORIC PRESERVATION', '15000-30000', 480], ['HISTORIC PRESERVATION', '30000-50000', 625], ['HISTORIC PRESERVATION', '50000-75000', 551], ['HISTORIC PRESERVATION', '75000-105000', 502], ['HISTORIC PRESERVATION', '105000-140000', 347], ['HISTORIC PRESERVATION', '140000-180000', 297], ['HISTORIC PRESERVATION', '180000-225000', 237], ['HISTORIC PRESERVATION', '225000-275000', 195], ['HISTORIC PRESERVATION', '275000-495000', 351], ['HISTORIC PRESERVATION', '495000-735000', 199], ['HISTORIC PRESERVATION', '735000-995000', 110], ['HISTORIC PRESERVATION', '995000-1275000', 55], ['HISTORIC PRESERVATION', '1275000-1575000', 59], ['HISTORIC PRESERVATION', '1575000-1895000', 32], ['HISTORIC PRESERVATION', '1895000-2235000', 18], ['HISTORIC PRESERVATION', '2235000-2595000', 19], ['HISTORIC PRESERVATION', '2595000-2975000', 22], ['HISTORIC PRESERVATION', '2975000-3375000', 14], ['ZOO, AQUARIUM, OR WILDLIFE CONSERVATION', '0-5000', 2], ['ZOO, AQUARIUM, OR WILDLIFE CONSERVATION', '5000-15000', 8], ['ZOO, AQUARIUM, OR WILDLIFE CONSERVATION', '15000-30000', 6], ['ZOO, AQUARIUM, OR WILDLIFE CONSERVATION', '30000-50000', 10], ['ZOO, AQUARIUM, OR WILDLIFE CONSERVATION', '50000-75000', 9], ['ZOO, AQUARIUM, OR WILDLIFE CONSERVATION', '75000-105000', 9], ['ZOO, AQUARIUM, OR WILDLIFE CONSERVATION', '105000-140000', 6], ['ZOO, AQUARIUM, OR WILDLIFE CONSERVATION', '140000-180000', 3], ['ZOO, AQUARIUM, OR WILDLIFE CONSERVATION', '180000-225000', 4], ['ZOO, AQUARIUM, OR WILDLIFE CONSERVATION', '225000-275000', 8], ['ZOO, AQUARIUM, OR WILDLIFE CONSERVATION', '275000-495000', 18], ['ZOO, AQUARIUM, OR WILDLIFE CONSERVATION', '495000-735000', 12], ['ZOO, AQUARIUM, OR WILDLIFE CONSERVATION', '735000-995000', 13], ['ZOO, AQUARIUM, OR WILDLIFE CONSERVATION', '995000-1275000', 10], ['ZOO, AQUARIUM, OR WILDLIFE CONSERVATION', '1275000-1575000', 8], ['ZOO, AQUARIUM, OR WILDLIFE CONSERVATION', '1575000-1895000', 6], ['ZOO, AQUARIUM, OR WILDLIFE CONSERVATION', '1895000-2235000', 2], ['ZOO, AQUARIUM, OR WILDLIFE CONSERVATION', '2235000-2595000', 5], ['ZOO, AQUARIUM, OR WILDLIFE CONSERVATION', '2595000-2975000', 3], ['ZOO, AQUARIUM, OR WILDLIFE CONSERVATION', '2975000-3375000', 5], ['ART MUSEUM', '0-5000', 20], ['ART MUSEUM', '5000-15000', 19], ['ART MUSEUM', '15000-30000', 27], ['ART MUSEUM', '30000-50000', 43], ['ART MUSEUM', '50000-75000', 51], ['ART MUSEUM', '75000-105000', 43], ['ART MUSEUM', '105000-140000', 61], ['ART MUSEUM', '140000-180000', 42], ['ART MUSEUM', '180000-225000', 44], ['ART MUSEUM', '225000-275000', 28], ['ART MUSEUM', '275000-495000', 93], ['ART MUSEUM', '495000-735000', 63], ['ART MUSEUM', '735000-995000', 54], ['ART MUSEUM', '995000-1275000', 32], ['ART MUSEUM', '1275000-1575000', 22], ['ART MUSEUM', '1575000-1895000', 24], ['ART MUSEUM', '1895000-2235000', 16], ['ART MUSEUM', '2235000-2595000', 10], ['ART MUSEUM', '2595000-2975000', 22], ['ART MUSEUM', '2975000-3375000', 8], [\"CHILDREN'S MUSEUM\", '0-5000', 1], [\"CHILDREN'S MUSEUM\", '5000-15000', 2], [\"CHILDREN'S MUSEUM\", '15000-30000', 7], [\"CHILDREN'S MUSEUM\", '30000-50000', 8], [\"CHILDREN'S MUSEUM\", '50000-75000', 9], [\"CHILDREN'S MUSEUM\", '75000-105000', 12], [\"CHILDREN'S MUSEUM\", '105000-140000', 15], [\"CHILDREN'S MUSEUM\", '140000-180000', 14], [\"CHILDREN'S MUSEUM\", '180000-225000', 12], [\"CHILDREN'S MUSEUM\", '225000-275000', 10], [\"CHILDREN'S MUSEUM\", '275000-495000', 48], [\"CHILDREN'S MUSEUM\", '495000-735000', 28], [\"CHILDREN'S MUSEUM\", '735000-995000', 14], [\"CHILDREN'S MUSEUM\", '995000-1275000', 17], [\"CHILDREN'S MUSEUM\", '1275000-1575000', 7], [\"CHILDREN'S MUSEUM\", '1575000-1895000', 6], [\"CHILDREN'S MUSEUM\", '1895000-2235000', 7], [\"CHILDREN'S MUSEUM\", '2235000-2595000', 2], [\"CHILDREN'S MUSEUM\", '2595000-2975000', 7], [\"CHILDREN'S MUSEUM\", '2975000-3375000', 5], ['NATURAL HISTORY MUSEUM', '0-5000', 5], ['NATURAL HISTORY MUSEUM', '5000-15000', 4], ['NATURAL HISTORY MUSEUM', '15000-30000', 3], ['NATURAL HISTORY MUSEUM', '30000-50000', 7], ['NATURAL HISTORY MUSEUM', '50000-75000', 12], ['NATURAL HISTORY MUSEUM', '75000-105000', 12], ['NATURAL HISTORY MUSEUM', '105000-140000', 11], ['NATURAL HISTORY MUSEUM', '140000-180000', 4], ['NATURAL HISTORY MUSEUM', '180000-225000', 5], ['NATURAL HISTORY MUSEUM', '225000-275000', 3], ['NATURAL HISTORY MUSEUM', '275000-495000', 9], ['NATURAL HISTORY MUSEUM', '495000-735000', 14], ['NATURAL HISTORY MUSEUM', '735000-995000', 4], ['NATURAL HISTORY MUSEUM', '995000-1275000', 4], ['NATURAL HISTORY MUSEUM', '1275000-1575000', 1], ['NATURAL HISTORY MUSEUM', '1575000-1895000', 2], ['NATURAL HISTORY MUSEUM', '1895000-2235000', 5], ['NATURAL HISTORY MUSEUM', '2235000-2595000', 1], ['NATURAL HISTORY MUSEUM', '2595000-2975000', 1], ['NATURAL HISTORY MUSEUM', '2975000-3375000', 0]]\n"
          ]
        }
      ]
    },
    {
      "cell_type": "code",
      "metadata": {
        "colab": {
          "base_uri": "https://localhost:8080/"
        },
        "id": "pdmNaGI7NH-g",
        "outputId": "70e8ea94-8fbf-4980-99dd-92c0f13e0f19"
      },
      "source": [
        "headers = ['Museum Type', 'Revenue', 'Number of Museums']\n",
        "df4 = pd.DataFrame(answer, columns=headers)\n",
        "print(df4)"
      ],
      "execution_count": null,
      "outputs": [
        {
          "output_type": "stream",
          "name": "stdout",
          "text": [
            "                Museum Type          Revenue  Number of Museums\n",
            "0            HISTORY MUSEUM           0-5000                 45\n",
            "1            HISTORY MUSEUM       5000-15000                 64\n",
            "2            HISTORY MUSEUM      15000-30000                 99\n",
            "3            HISTORY MUSEUM      30000-50000                129\n",
            "4            HISTORY MUSEUM      50000-75000                113\n",
            "..                      ...              ...                ...\n",
            "175  NATURAL HISTORY MUSEUM  1575000-1895000                  2\n",
            "176  NATURAL HISTORY MUSEUM  1895000-2235000                  5\n",
            "177  NATURAL HISTORY MUSEUM  2235000-2595000                  1\n",
            "178  NATURAL HISTORY MUSEUM  2595000-2975000                  1\n",
            "179  NATURAL HISTORY MUSEUM  2975000-3375000                  0\n",
            "\n",
            "[180 rows x 3 columns]\n"
          ]
        }
      ]
    },
    {
      "cell_type": "code",
      "metadata": {
        "colab": {
          "base_uri": "https://localhost:8080/",
          "height": 440
        },
        "id": "vyIVStbXPBlI",
        "outputId": "71884872-2a00-4e3e-94df-71852f34ba57"
      },
      "source": [
        "import altair as alt\n",
        "from vega_datasets import data\n",
        "\n",
        "alt.Chart(df4).mark_bar().encode(\n",
        "    x = alt.X('Revenue', sort=rev_options),\n",
        "    y = 'Number of Museums',\n",
        "    color = 'Museum Type'\n",
        ")"
      ],
      "execution_count": null,
      "outputs": [
        {
          "output_type": "execute_result",
          "data": {
            "text/plain": [
              "alt.Chart(...)"
            ],
            "text/html": [
              "\n",
              "<div id=\"altair-viz-6d2e221873154981bf4f8e2f97d26e18\"></div>\n",
              "<script type=\"text/javascript\">\n",
              "  (function(spec, embedOpt){\n",
              "    let outputDiv = document.currentScript.previousElementSibling;\n",
              "    if (outputDiv.id !== \"altair-viz-6d2e221873154981bf4f8e2f97d26e18\") {\n",
              "      outputDiv = document.getElementById(\"altair-viz-6d2e221873154981bf4f8e2f97d26e18\");\n",
              "    }\n",
              "    const paths = {\n",
              "      \"vega\": \"https://cdn.jsdelivr.net/npm//vega@5?noext\",\n",
              "      \"vega-lib\": \"https://cdn.jsdelivr.net/npm//vega-lib?noext\",\n",
              "      \"vega-lite\": \"https://cdn.jsdelivr.net/npm//vega-lite@4.8.1?noext\",\n",
              "      \"vega-embed\": \"https://cdn.jsdelivr.net/npm//vega-embed@6?noext\",\n",
              "    };\n",
              "\n",
              "    function loadScript(lib) {\n",
              "      return new Promise(function(resolve, reject) {\n",
              "        var s = document.createElement('script');\n",
              "        s.src = paths[lib];\n",
              "        s.async = true;\n",
              "        s.onload = () => resolve(paths[lib]);\n",
              "        s.onerror = () => reject(`Error loading script: ${paths[lib]}`);\n",
              "        document.getElementsByTagName(\"head\")[0].appendChild(s);\n",
              "      });\n",
              "    }\n",
              "\n",
              "    function showError(err) {\n",
              "      outputDiv.innerHTML = `<div class=\"error\" style=\"color:red;\">${err}</div>`;\n",
              "      throw err;\n",
              "    }\n",
              "\n",
              "    function displayChart(vegaEmbed) {\n",
              "      vegaEmbed(outputDiv, spec, embedOpt)\n",
              "        .catch(err => showError(`Javascript Error: ${err.message}<br>This usually means there's a typo in your chart specification. See the javascript console for the full traceback.`));\n",
              "    }\n",
              "\n",
              "    if(typeof define === \"function\" && define.amd) {\n",
              "      requirejs.config({paths});\n",
              "      require([\"vega-embed\"], displayChart, err => showError(`Error loading script: ${err.message}`));\n",
              "    } else if (typeof vegaEmbed === \"function\") {\n",
              "      displayChart(vegaEmbed);\n",
              "    } else {\n",
              "      loadScript(\"vega\")\n",
              "        .then(() => loadScript(\"vega-lite\"))\n",
              "        .then(() => loadScript(\"vega-embed\"))\n",
              "        .catch(showError)\n",
              "        .then(() => displayChart(vegaEmbed));\n",
              "    }\n",
              "  })({\"config\": {\"view\": {\"continuousWidth\": 400, \"continuousHeight\": 300}}, \"data\": {\"name\": \"data-255e4f02faefc82fdbad5a3c6f968756\"}, \"mark\": \"bar\", \"encoding\": {\"color\": {\"type\": \"nominal\", \"field\": \"Museum Type\"}, \"x\": {\"type\": \"nominal\", \"field\": \"Revenue\", \"sort\": [\"0-5000\", \"5000-15000\", \"15000-30000\", \"30000-50000\", \"50000-75000\", \"75000-105000\", \"105000-140000\", \"140000-180000\", \"180000-225000\", \"225000-275000\", \"275000-495000\", \"495000-735000\", \"735000-995000\", \"995000-1275000\", \"1275000-1575000\", \"1575000-1895000\", \"1895000-2235000\", \"2235000-2595000\", \"2595000-2975000\", \"2975000-3375000\"]}, \"y\": {\"type\": \"quantitative\", \"field\": \"Number of Museums\"}}, \"$schema\": \"https://vega.github.io/schema/vega-lite/v4.8.1.json\", \"datasets\": {\"data-255e4f02faefc82fdbad5a3c6f968756\": [{\"Museum Type\": \"HISTORY MUSEUM\", \"Revenue\": \"0-5000\", \"Number of Museums\": 45}, {\"Museum Type\": \"HISTORY MUSEUM\", \"Revenue\": \"5000-15000\", \"Number of Museums\": 64}, {\"Museum Type\": \"HISTORY MUSEUM\", \"Revenue\": \"15000-30000\", \"Number of Museums\": 99}, {\"Museum Type\": \"HISTORY MUSEUM\", \"Revenue\": \"30000-50000\", \"Number of Museums\": 129}, {\"Museum Type\": \"HISTORY MUSEUM\", \"Revenue\": \"50000-75000\", \"Number of Museums\": 113}, {\"Museum Type\": \"HISTORY MUSEUM\", \"Revenue\": \"75000-105000\", \"Number of Museums\": 113}, {\"Museum Type\": \"HISTORY MUSEUM\", \"Revenue\": \"105000-140000\", \"Number of Museums\": 94}, {\"Museum Type\": \"HISTORY MUSEUM\", \"Revenue\": \"140000-180000\", \"Number of Museums\": 86}, {\"Museum Type\": \"HISTORY MUSEUM\", \"Revenue\": \"180000-225000\", \"Number of Museums\": 69}, {\"Museum Type\": \"HISTORY MUSEUM\", \"Revenue\": \"225000-275000\", \"Number of Museums\": 52}, {\"Museum Type\": \"HISTORY MUSEUM\", \"Revenue\": \"275000-495000\", \"Number of Museums\": 124}, {\"Museum Type\": \"HISTORY MUSEUM\", \"Revenue\": \"495000-735000\", \"Number of Museums\": 63}, {\"Museum Type\": \"HISTORY MUSEUM\", \"Revenue\": \"735000-995000\", \"Number of Museums\": 28}, {\"Museum Type\": \"HISTORY MUSEUM\", \"Revenue\": \"995000-1275000\", \"Number of Museums\": 26}, {\"Museum Type\": \"HISTORY MUSEUM\", \"Revenue\": \"1275000-1575000\", \"Number of Museums\": 24}, {\"Museum Type\": \"HISTORY MUSEUM\", \"Revenue\": \"1575000-1895000\", \"Number of Museums\": 10}, {\"Museum Type\": \"HISTORY MUSEUM\", \"Revenue\": \"1895000-2235000\", \"Number of Museums\": 13}, {\"Museum Type\": \"HISTORY MUSEUM\", \"Revenue\": \"2235000-2595000\", \"Number of Museums\": 3}, {\"Museum Type\": \"HISTORY MUSEUM\", \"Revenue\": \"2595000-2975000\", \"Number of Museums\": 11}, {\"Museum Type\": \"HISTORY MUSEUM\", \"Revenue\": \"2975000-3375000\", \"Number of Museums\": 6}, {\"Museum Type\": \"ARBORETUM, BOTANICAL GARDEN, OR NATURE CENTER\", \"Revenue\": \"0-5000\", \"Number of Museums\": 10}, {\"Museum Type\": \"ARBORETUM, BOTANICAL GARDEN, OR NATURE CENTER\", \"Revenue\": \"5000-15000\", \"Number of Museums\": 12}, {\"Museum Type\": \"ARBORETUM, BOTANICAL GARDEN, OR NATURE CENTER\", \"Revenue\": \"15000-30000\", \"Number of Museums\": 16}, {\"Museum Type\": \"ARBORETUM, BOTANICAL GARDEN, OR NATURE CENTER\", \"Revenue\": \"30000-50000\", \"Number of Museums\": 18}, {\"Museum Type\": \"ARBORETUM, BOTANICAL GARDEN, OR NATURE CENTER\", \"Revenue\": \"50000-75000\", \"Number of Museums\": 25}, {\"Museum Type\": \"ARBORETUM, BOTANICAL GARDEN, OR NATURE CENTER\", \"Revenue\": \"75000-105000\", \"Number of Museums\": 23}, {\"Museum Type\": \"ARBORETUM, BOTANICAL GARDEN, OR NATURE CENTER\", \"Revenue\": \"105000-140000\", \"Number of Museums\": 18}, {\"Museum Type\": \"ARBORETUM, BOTANICAL GARDEN, OR NATURE CENTER\", \"Revenue\": \"140000-180000\", \"Number of Museums\": 18}, {\"Museum Type\": \"ARBORETUM, BOTANICAL GARDEN, OR NATURE CENTER\", \"Revenue\": \"180000-225000\", \"Number of Museums\": 20}, {\"Museum Type\": \"ARBORETUM, BOTANICAL GARDEN, OR NATURE CENTER\", \"Revenue\": \"225000-275000\", \"Number of Museums\": 22}, {\"Museum Type\": \"ARBORETUM, BOTANICAL GARDEN, OR NATURE CENTER\", \"Revenue\": \"275000-495000\", \"Number of Museums\": 51}, {\"Museum Type\": \"ARBORETUM, BOTANICAL GARDEN, OR NATURE CENTER\", \"Revenue\": \"495000-735000\", \"Number of Museums\": 30}, {\"Museum Type\": \"ARBORETUM, BOTANICAL GARDEN, OR NATURE CENTER\", \"Revenue\": \"735000-995000\", \"Number of Museums\": 28}, {\"Museum Type\": \"ARBORETUM, BOTANICAL GARDEN, OR NATURE CENTER\", \"Revenue\": \"995000-1275000\", \"Number of Museums\": 21}, {\"Museum Type\": \"ARBORETUM, BOTANICAL GARDEN, OR NATURE CENTER\", \"Revenue\": \"1275000-1575000\", \"Number of Museums\": 23}, {\"Museum Type\": \"ARBORETUM, BOTANICAL GARDEN, OR NATURE CENTER\", \"Revenue\": \"1575000-1895000\", \"Number of Museums\": 14}, {\"Museum Type\": \"ARBORETUM, BOTANICAL GARDEN, OR NATURE CENTER\", \"Revenue\": \"1895000-2235000\", \"Number of Museums\": 9}, {\"Museum Type\": \"ARBORETUM, BOTANICAL GARDEN, OR NATURE CENTER\", \"Revenue\": \"2235000-2595000\", \"Number of Museums\": 8}, {\"Museum Type\": \"ARBORETUM, BOTANICAL GARDEN, OR NATURE CENTER\", \"Revenue\": \"2595000-2975000\", \"Number of Museums\": 7}, {\"Museum Type\": \"ARBORETUM, BOTANICAL GARDEN, OR NATURE CENTER\", \"Revenue\": \"2975000-3375000\", \"Number of Museums\": 2}, {\"Museum Type\": \"SCIENCE & TECHNOLOGY MUSEUM OR PLANETARIUM\", \"Revenue\": \"0-5000\", \"Number of Museums\": 4}, {\"Museum Type\": \"SCIENCE & TECHNOLOGY MUSEUM OR PLANETARIUM\", \"Revenue\": \"5000-15000\", \"Number of Museums\": 11}, {\"Museum Type\": \"SCIENCE & TECHNOLOGY MUSEUM OR PLANETARIUM\", \"Revenue\": \"15000-30000\", \"Number of Museums\": 9}, {\"Museum Type\": \"SCIENCE & TECHNOLOGY MUSEUM OR PLANETARIUM\", \"Revenue\": \"30000-50000\", \"Number of Museums\": 7}, {\"Museum Type\": \"SCIENCE & TECHNOLOGY MUSEUM OR PLANETARIUM\", \"Revenue\": \"50000-75000\", \"Number of Museums\": 11}, {\"Museum Type\": \"SCIENCE & TECHNOLOGY MUSEUM OR PLANETARIUM\", \"Revenue\": \"75000-105000\", \"Number of Museums\": 10}, {\"Museum Type\": \"SCIENCE & TECHNOLOGY MUSEUM OR PLANETARIUM\", \"Revenue\": \"105000-140000\", \"Number of Museums\": 12}, {\"Museum Type\": \"SCIENCE & TECHNOLOGY MUSEUM OR PLANETARIUM\", \"Revenue\": \"140000-180000\", \"Number of Museums\": 14}, {\"Museum Type\": \"SCIENCE & TECHNOLOGY MUSEUM OR PLANETARIUM\", \"Revenue\": \"180000-225000\", \"Number of Museums\": 9}, {\"Museum Type\": \"SCIENCE & TECHNOLOGY MUSEUM OR PLANETARIUM\", \"Revenue\": \"225000-275000\", \"Number of Museums\": 7}, {\"Museum Type\": \"SCIENCE & TECHNOLOGY MUSEUM OR PLANETARIUM\", \"Revenue\": \"275000-495000\", \"Number of Museums\": 31}, {\"Museum Type\": \"SCIENCE & TECHNOLOGY MUSEUM OR PLANETARIUM\", \"Revenue\": \"495000-735000\", \"Number of Museums\": 17}, {\"Museum Type\": \"SCIENCE & TECHNOLOGY MUSEUM OR PLANETARIUM\", \"Revenue\": \"735000-995000\", \"Number of Museums\": 7}, {\"Museum Type\": \"SCIENCE & TECHNOLOGY MUSEUM OR PLANETARIUM\", \"Revenue\": \"995000-1275000\", \"Number of Museums\": 8}, {\"Museum Type\": \"SCIENCE & TECHNOLOGY MUSEUM OR PLANETARIUM\", \"Revenue\": \"1275000-1575000\", \"Number of Museums\": 9}, {\"Museum Type\": \"SCIENCE & TECHNOLOGY MUSEUM OR PLANETARIUM\", \"Revenue\": \"1575000-1895000\", \"Number of Museums\": 8}, {\"Museum Type\": \"SCIENCE & TECHNOLOGY MUSEUM OR PLANETARIUM\", \"Revenue\": \"1895000-2235000\", \"Number of Museums\": 12}, {\"Museum Type\": \"SCIENCE & TECHNOLOGY MUSEUM OR PLANETARIUM\", \"Revenue\": \"2235000-2595000\", \"Number of Museums\": 10}, {\"Museum Type\": \"SCIENCE & TECHNOLOGY MUSEUM OR PLANETARIUM\", \"Revenue\": \"2595000-2975000\", \"Number of Museums\": 6}, {\"Museum Type\": \"SCIENCE & TECHNOLOGY MUSEUM OR PLANETARIUM\", \"Revenue\": \"2975000-3375000\", \"Number of Museums\": 3}, {\"Museum Type\": \"GENERAL MUSEUM\", \"Revenue\": \"0-5000\", \"Number of Museums\": 77}, {\"Museum Type\": \"GENERAL MUSEUM\", \"Revenue\": \"5000-15000\", \"Number of Museums\": 104}, {\"Museum Type\": \"GENERAL MUSEUM\", \"Revenue\": \"15000-30000\", \"Number of Museums\": 157}, {\"Museum Type\": \"GENERAL MUSEUM\", \"Revenue\": \"30000-50000\", \"Number of Museums\": 181}, {\"Museum Type\": \"GENERAL MUSEUM\", \"Revenue\": \"50000-75000\", \"Number of Museums\": 196}, {\"Museum Type\": \"GENERAL MUSEUM\", \"Revenue\": \"75000-105000\", \"Number of Museums\": 167}, {\"Museum Type\": \"GENERAL MUSEUM\", \"Revenue\": \"105000-140000\", \"Number of Museums\": 152}, {\"Museum Type\": \"GENERAL MUSEUM\", \"Revenue\": \"140000-180000\", \"Number of Museums\": 115}, {\"Museum Type\": \"GENERAL MUSEUM\", \"Revenue\": \"180000-225000\", \"Number of Museums\": 81}, {\"Museum Type\": \"GENERAL MUSEUM\", \"Revenue\": \"225000-275000\", \"Number of Museums\": 73}, {\"Museum Type\": \"GENERAL MUSEUM\", \"Revenue\": \"275000-495000\", \"Number of Museums\": 225}, {\"Museum Type\": \"GENERAL MUSEUM\", \"Revenue\": \"495000-735000\", \"Number of Museums\": 133}, {\"Museum Type\": \"GENERAL MUSEUM\", \"Revenue\": \"735000-995000\", \"Number of Museums\": 93}, {\"Museum Type\": \"GENERAL MUSEUM\", \"Revenue\": \"995000-1275000\", \"Number of Museums\": 59}, {\"Museum Type\": \"GENERAL MUSEUM\", \"Revenue\": \"1275000-1575000\", \"Number of Museums\": 46}, {\"Museum Type\": \"GENERAL MUSEUM\", \"Revenue\": \"1575000-1895000\", \"Number of Museums\": 37}, {\"Museum Type\": \"GENERAL MUSEUM\", \"Revenue\": \"1895000-2235000\", \"Number of Museums\": 28}, {\"Museum Type\": \"GENERAL MUSEUM\", \"Revenue\": \"2235000-2595000\", \"Number of Museums\": 31}, {\"Museum Type\": \"GENERAL MUSEUM\", \"Revenue\": \"2595000-2975000\", \"Number of Museums\": 22}, {\"Museum Type\": \"GENERAL MUSEUM\", \"Revenue\": \"2975000-3375000\", \"Number of Museums\": 13}, {\"Museum Type\": \"HISTORIC PRESERVATION\", \"Revenue\": \"0-5000\", \"Number of Museums\": 283}, {\"Museum Type\": \"HISTORIC PRESERVATION\", \"Revenue\": \"5000-15000\", \"Number of Museums\": 389}, {\"Museum Type\": \"HISTORIC PRESERVATION\", \"Revenue\": \"15000-30000\", \"Number of Museums\": 480}, {\"Museum Type\": \"HISTORIC PRESERVATION\", \"Revenue\": \"30000-50000\", \"Number of Museums\": 625}, {\"Museum Type\": \"HISTORIC PRESERVATION\", \"Revenue\": \"50000-75000\", \"Number of Museums\": 551}, {\"Museum Type\": \"HISTORIC PRESERVATION\", \"Revenue\": \"75000-105000\", \"Number of Museums\": 502}, {\"Museum Type\": \"HISTORIC PRESERVATION\", \"Revenue\": \"105000-140000\", \"Number of Museums\": 347}, {\"Museum Type\": \"HISTORIC PRESERVATION\", \"Revenue\": \"140000-180000\", \"Number of Museums\": 297}, {\"Museum Type\": \"HISTORIC PRESERVATION\", \"Revenue\": \"180000-225000\", \"Number of Museums\": 237}, {\"Museum Type\": \"HISTORIC PRESERVATION\", \"Revenue\": \"225000-275000\", \"Number of Museums\": 195}, {\"Museum Type\": \"HISTORIC PRESERVATION\", \"Revenue\": \"275000-495000\", \"Number of Museums\": 351}, {\"Museum Type\": \"HISTORIC PRESERVATION\", \"Revenue\": \"495000-735000\", \"Number of Museums\": 199}, {\"Museum Type\": \"HISTORIC PRESERVATION\", \"Revenue\": \"735000-995000\", \"Number of Museums\": 110}, {\"Museum Type\": \"HISTORIC PRESERVATION\", \"Revenue\": \"995000-1275000\", \"Number of Museums\": 55}, {\"Museum Type\": \"HISTORIC PRESERVATION\", \"Revenue\": \"1275000-1575000\", \"Number of Museums\": 59}, {\"Museum Type\": \"HISTORIC PRESERVATION\", \"Revenue\": \"1575000-1895000\", \"Number of Museums\": 32}, {\"Museum Type\": \"HISTORIC PRESERVATION\", \"Revenue\": \"1895000-2235000\", \"Number of Museums\": 18}, {\"Museum Type\": \"HISTORIC PRESERVATION\", \"Revenue\": \"2235000-2595000\", \"Number of Museums\": 19}, {\"Museum Type\": \"HISTORIC PRESERVATION\", \"Revenue\": \"2595000-2975000\", \"Number of Museums\": 22}, {\"Museum Type\": \"HISTORIC PRESERVATION\", \"Revenue\": \"2975000-3375000\", \"Number of Museums\": 14}, {\"Museum Type\": \"ZOO, AQUARIUM, OR WILDLIFE CONSERVATION\", \"Revenue\": \"0-5000\", \"Number of Museums\": 2}, {\"Museum Type\": \"ZOO, AQUARIUM, OR WILDLIFE CONSERVATION\", \"Revenue\": \"5000-15000\", \"Number of Museums\": 8}, {\"Museum Type\": \"ZOO, AQUARIUM, OR WILDLIFE CONSERVATION\", \"Revenue\": \"15000-30000\", \"Number of Museums\": 6}, {\"Museum Type\": \"ZOO, AQUARIUM, OR WILDLIFE CONSERVATION\", \"Revenue\": \"30000-50000\", \"Number of Museums\": 10}, {\"Museum Type\": \"ZOO, AQUARIUM, OR WILDLIFE CONSERVATION\", \"Revenue\": \"50000-75000\", \"Number of Museums\": 9}, {\"Museum Type\": \"ZOO, AQUARIUM, OR WILDLIFE CONSERVATION\", \"Revenue\": \"75000-105000\", \"Number of Museums\": 9}, {\"Museum Type\": \"ZOO, AQUARIUM, OR WILDLIFE CONSERVATION\", \"Revenue\": \"105000-140000\", \"Number of Museums\": 6}, {\"Museum Type\": \"ZOO, AQUARIUM, OR WILDLIFE CONSERVATION\", \"Revenue\": \"140000-180000\", \"Number of Museums\": 3}, {\"Museum Type\": \"ZOO, AQUARIUM, OR WILDLIFE CONSERVATION\", \"Revenue\": \"180000-225000\", \"Number of Museums\": 4}, {\"Museum Type\": \"ZOO, AQUARIUM, OR WILDLIFE CONSERVATION\", \"Revenue\": \"225000-275000\", \"Number of Museums\": 8}, {\"Museum Type\": \"ZOO, AQUARIUM, OR WILDLIFE CONSERVATION\", \"Revenue\": \"275000-495000\", \"Number of Museums\": 18}, {\"Museum Type\": \"ZOO, AQUARIUM, OR WILDLIFE CONSERVATION\", \"Revenue\": \"495000-735000\", \"Number of Museums\": 12}, {\"Museum Type\": \"ZOO, AQUARIUM, OR WILDLIFE CONSERVATION\", \"Revenue\": \"735000-995000\", \"Number of Museums\": 13}, {\"Museum Type\": \"ZOO, AQUARIUM, OR WILDLIFE CONSERVATION\", \"Revenue\": \"995000-1275000\", \"Number of Museums\": 10}, {\"Museum Type\": \"ZOO, AQUARIUM, OR WILDLIFE CONSERVATION\", \"Revenue\": \"1275000-1575000\", \"Number of Museums\": 8}, {\"Museum Type\": \"ZOO, AQUARIUM, OR WILDLIFE CONSERVATION\", \"Revenue\": \"1575000-1895000\", \"Number of Museums\": 6}, {\"Museum Type\": \"ZOO, AQUARIUM, OR WILDLIFE CONSERVATION\", \"Revenue\": \"1895000-2235000\", \"Number of Museums\": 2}, {\"Museum Type\": \"ZOO, AQUARIUM, OR WILDLIFE CONSERVATION\", \"Revenue\": \"2235000-2595000\", \"Number of Museums\": 5}, {\"Museum Type\": \"ZOO, AQUARIUM, OR WILDLIFE CONSERVATION\", \"Revenue\": \"2595000-2975000\", \"Number of Museums\": 3}, {\"Museum Type\": \"ZOO, AQUARIUM, OR WILDLIFE CONSERVATION\", \"Revenue\": \"2975000-3375000\", \"Number of Museums\": 5}, {\"Museum Type\": \"ART MUSEUM\", \"Revenue\": \"0-5000\", \"Number of Museums\": 20}, {\"Museum Type\": \"ART MUSEUM\", \"Revenue\": \"5000-15000\", \"Number of Museums\": 19}, {\"Museum Type\": \"ART MUSEUM\", \"Revenue\": \"15000-30000\", \"Number of Museums\": 27}, {\"Museum Type\": \"ART MUSEUM\", \"Revenue\": \"30000-50000\", \"Number of Museums\": 43}, {\"Museum Type\": \"ART MUSEUM\", \"Revenue\": \"50000-75000\", \"Number of Museums\": 51}, {\"Museum Type\": \"ART MUSEUM\", \"Revenue\": \"75000-105000\", \"Number of Museums\": 43}, {\"Museum Type\": \"ART MUSEUM\", \"Revenue\": \"105000-140000\", \"Number of Museums\": 61}, {\"Museum Type\": \"ART MUSEUM\", \"Revenue\": \"140000-180000\", \"Number of Museums\": 42}, {\"Museum Type\": \"ART MUSEUM\", \"Revenue\": \"180000-225000\", \"Number of Museums\": 44}, {\"Museum Type\": \"ART MUSEUM\", \"Revenue\": \"225000-275000\", \"Number of Museums\": 28}, {\"Museum Type\": \"ART MUSEUM\", \"Revenue\": \"275000-495000\", \"Number of Museums\": 93}, {\"Museum Type\": \"ART MUSEUM\", \"Revenue\": \"495000-735000\", \"Number of Museums\": 63}, {\"Museum Type\": \"ART MUSEUM\", \"Revenue\": \"735000-995000\", \"Number of Museums\": 54}, {\"Museum Type\": \"ART MUSEUM\", \"Revenue\": \"995000-1275000\", \"Number of Museums\": 32}, {\"Museum Type\": \"ART MUSEUM\", \"Revenue\": \"1275000-1575000\", \"Number of Museums\": 22}, {\"Museum Type\": \"ART MUSEUM\", \"Revenue\": \"1575000-1895000\", \"Number of Museums\": 24}, {\"Museum Type\": \"ART MUSEUM\", \"Revenue\": \"1895000-2235000\", \"Number of Museums\": 16}, {\"Museum Type\": \"ART MUSEUM\", \"Revenue\": \"2235000-2595000\", \"Number of Museums\": 10}, {\"Museum Type\": \"ART MUSEUM\", \"Revenue\": \"2595000-2975000\", \"Number of Museums\": 22}, {\"Museum Type\": \"ART MUSEUM\", \"Revenue\": \"2975000-3375000\", \"Number of Museums\": 8}, {\"Museum Type\": \"CHILDREN'S MUSEUM\", \"Revenue\": \"0-5000\", \"Number of Museums\": 1}, {\"Museum Type\": \"CHILDREN'S MUSEUM\", \"Revenue\": \"5000-15000\", \"Number of Museums\": 2}, {\"Museum Type\": \"CHILDREN'S MUSEUM\", \"Revenue\": \"15000-30000\", \"Number of Museums\": 7}, {\"Museum Type\": \"CHILDREN'S MUSEUM\", \"Revenue\": \"30000-50000\", \"Number of Museums\": 8}, {\"Museum Type\": \"CHILDREN'S MUSEUM\", \"Revenue\": \"50000-75000\", \"Number of Museums\": 9}, {\"Museum Type\": \"CHILDREN'S MUSEUM\", \"Revenue\": \"75000-105000\", \"Number of Museums\": 12}, {\"Museum Type\": \"CHILDREN'S MUSEUM\", \"Revenue\": \"105000-140000\", \"Number of Museums\": 15}, {\"Museum Type\": \"CHILDREN'S MUSEUM\", \"Revenue\": \"140000-180000\", \"Number of Museums\": 14}, {\"Museum Type\": \"CHILDREN'S MUSEUM\", \"Revenue\": \"180000-225000\", \"Number of Museums\": 12}, {\"Museum Type\": \"CHILDREN'S MUSEUM\", \"Revenue\": \"225000-275000\", \"Number of Museums\": 10}, {\"Museum Type\": \"CHILDREN'S MUSEUM\", \"Revenue\": \"275000-495000\", \"Number of Museums\": 48}, {\"Museum Type\": \"CHILDREN'S MUSEUM\", \"Revenue\": \"495000-735000\", \"Number of Museums\": 28}, {\"Museum Type\": \"CHILDREN'S MUSEUM\", \"Revenue\": \"735000-995000\", \"Number of Museums\": 14}, {\"Museum Type\": \"CHILDREN'S MUSEUM\", \"Revenue\": \"995000-1275000\", \"Number of Museums\": 17}, {\"Museum Type\": \"CHILDREN'S MUSEUM\", \"Revenue\": \"1275000-1575000\", \"Number of Museums\": 7}, {\"Museum Type\": \"CHILDREN'S MUSEUM\", \"Revenue\": \"1575000-1895000\", \"Number of Museums\": 6}, {\"Museum Type\": \"CHILDREN'S MUSEUM\", \"Revenue\": \"1895000-2235000\", \"Number of Museums\": 7}, {\"Museum Type\": \"CHILDREN'S MUSEUM\", \"Revenue\": \"2235000-2595000\", \"Number of Museums\": 2}, {\"Museum Type\": \"CHILDREN'S MUSEUM\", \"Revenue\": \"2595000-2975000\", \"Number of Museums\": 7}, {\"Museum Type\": \"CHILDREN'S MUSEUM\", \"Revenue\": \"2975000-3375000\", \"Number of Museums\": 5}, {\"Museum Type\": \"NATURAL HISTORY MUSEUM\", \"Revenue\": \"0-5000\", \"Number of Museums\": 5}, {\"Museum Type\": \"NATURAL HISTORY MUSEUM\", \"Revenue\": \"5000-15000\", \"Number of Museums\": 4}, {\"Museum Type\": \"NATURAL HISTORY MUSEUM\", \"Revenue\": \"15000-30000\", \"Number of Museums\": 3}, {\"Museum Type\": \"NATURAL HISTORY MUSEUM\", \"Revenue\": \"30000-50000\", \"Number of Museums\": 7}, {\"Museum Type\": \"NATURAL HISTORY MUSEUM\", \"Revenue\": \"50000-75000\", \"Number of Museums\": 12}, {\"Museum Type\": \"NATURAL HISTORY MUSEUM\", \"Revenue\": \"75000-105000\", \"Number of Museums\": 12}, {\"Museum Type\": \"NATURAL HISTORY MUSEUM\", \"Revenue\": \"105000-140000\", \"Number of Museums\": 11}, {\"Museum Type\": \"NATURAL HISTORY MUSEUM\", \"Revenue\": \"140000-180000\", \"Number of Museums\": 4}, {\"Museum Type\": \"NATURAL HISTORY MUSEUM\", \"Revenue\": \"180000-225000\", \"Number of Museums\": 5}, {\"Museum Type\": \"NATURAL HISTORY MUSEUM\", \"Revenue\": \"225000-275000\", \"Number of Museums\": 3}, {\"Museum Type\": \"NATURAL HISTORY MUSEUM\", \"Revenue\": \"275000-495000\", \"Number of Museums\": 9}, {\"Museum Type\": \"NATURAL HISTORY MUSEUM\", \"Revenue\": \"495000-735000\", \"Number of Museums\": 14}, {\"Museum Type\": \"NATURAL HISTORY MUSEUM\", \"Revenue\": \"735000-995000\", \"Number of Museums\": 4}, {\"Museum Type\": \"NATURAL HISTORY MUSEUM\", \"Revenue\": \"995000-1275000\", \"Number of Museums\": 4}, {\"Museum Type\": \"NATURAL HISTORY MUSEUM\", \"Revenue\": \"1275000-1575000\", \"Number of Museums\": 1}, {\"Museum Type\": \"NATURAL HISTORY MUSEUM\", \"Revenue\": \"1575000-1895000\", \"Number of Museums\": 2}, {\"Museum Type\": \"NATURAL HISTORY MUSEUM\", \"Revenue\": \"1895000-2235000\", \"Number of Museums\": 5}, {\"Museum Type\": \"NATURAL HISTORY MUSEUM\", \"Revenue\": \"2235000-2595000\", \"Number of Museums\": 1}, {\"Museum Type\": \"NATURAL HISTORY MUSEUM\", \"Revenue\": \"2595000-2975000\", \"Number of Museums\": 1}, {\"Museum Type\": \"NATURAL HISTORY MUSEUM\", \"Revenue\": \"2975000-3375000\", \"Number of Museums\": 0}]}}, {\"mode\": \"vega-lite\"});\n",
              "</script>"
            ]
          },
          "metadata": {},
          "execution_count": 52
        }
      ]
    },
    {
      "cell_type": "code",
      "metadata": {
        "id": "9c2abM_mdRKw"
      },
      "source": [
        "df4.to_pickle('/content/gdrive/MyDrive/Programming/museums_dataset_filtered.pkl')"
      ],
      "execution_count": null,
      "outputs": []
    }
  ]
}